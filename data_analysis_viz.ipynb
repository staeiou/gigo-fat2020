{
 "cells": [
  {
   "cell_type": "code",
   "execution_count": 1,
   "metadata": {},
   "outputs": [],
   "source": [
    "import pandas as pd\n",
    "import numpy as np\n",
    "import matplotlib.pyplot as plt\n",
    "import seaborn as sns\n",
    "import numpy as np\n",
    "import matplotlib\n",
    "%matplotlib inline\n",
    "pd.set_option('display.max_rows', 500)\n",
    "pd.set_option('display.max_columns', 500)\n",
    "pd.set_option('display.width', 1000)"
   ]
  },
  {
   "cell_type": "markdown",
   "metadata": {},
   "source": [
    "# Data loading and processing"
   ]
  },
  {
   "cell_type": "markdown",
   "metadata": {},
   "source": [
    "## Load dataset of paper labels and metadata"
   ]
  },
  {
   "cell_type": "code",
   "execution_count": 2,
   "metadata": {},
   "outputs": [],
   "source": [
    "df = pd.read_csv(\"gigo_noscores_dataset_anon.csv\")\n",
    "#df = pd.read_csv(\"final_with_metadata_ss_gs_annot_prepost_20190822.csv\")"
   ]
  },
  {
   "cell_type": "code",
   "execution_count": 3,
   "metadata": {},
   "outputs": [
    {
     "data": {
      "text/plain": [
       "164"
      ]
     },
     "execution_count": 3,
     "metadata": {},
     "output_type": "execute_result"
    }
   ],
   "source": [
    "len(df)"
   ]
  },
  {
   "cell_type": "code",
   "execution_count": 4,
   "metadata": {},
   "outputs": [
    {
     "data": {
      "text/html": [
       "<div>\n",
       "<style scoped>\n",
       "    .dataframe tbody tr th:only-of-type {\n",
       "        vertical-align: middle;\n",
       "    }\n",
       "\n",
       "    .dataframe tbody tr th {\n",
       "        vertical-align: top;\n",
       "    }\n",
       "\n",
       "    .dataframe thead th {\n",
       "        text-align: right;\n",
       "    }\n",
       "</style>\n",
       "<table border=\"1\" class=\"dataframe\">\n",
       "  <thead>\n",
       "    <tr style=\"text-align: right;\">\n",
       "      <th></th>\n",
       "      <th>0</th>\n",
       "      <th>1</th>\n",
       "      <th>2</th>\n",
       "    </tr>\n",
       "  </thead>\n",
       "  <tbody>\n",
       "    <tr>\n",
       "      <th>paper_UID</th>\n",
       "      <td>b7c485f39101623c7b90669f2e27b7fea90d41b7</td>\n",
       "      <td>2717bbfa1a2e553f8739608d95941e1a2ca976c1</td>\n",
       "      <td>f906d92ba005b46d35cc055edf7734d50d897f8b</td>\n",
       "    </tr>\n",
       "    <tr>\n",
       "      <th>original classification task</th>\n",
       "      <td>Yes</td>\n",
       "      <td>Yes</td>\n",
       "      <td>Yes</td>\n",
       "    </tr>\n",
       "    <tr>\n",
       "      <th>labels from human annotation</th>\n",
       "      <td>Yes</td>\n",
       "      <td>Yes</td>\n",
       "      <td>No</td>\n",
       "    </tr>\n",
       "    <tr>\n",
       "      <th>used original human annotation</th>\n",
       "      <td>Yes</td>\n",
       "      <td>Yes</td>\n",
       "      <td>NaN</td>\n",
       "    </tr>\n",
       "    <tr>\n",
       "      <th>used external human annotation data</th>\n",
       "      <td>No</td>\n",
       "      <td>No</td>\n",
       "      <td>NaN</td>\n",
       "    </tr>\n",
       "    <tr>\n",
       "      <th>original human annotation source</th>\n",
       "      <td>Other</td>\n",
       "      <td>No information</td>\n",
       "      <td>NaN</td>\n",
       "    </tr>\n",
       "    <tr>\n",
       "      <th># of annotators specified</th>\n",
       "      <td>No</td>\n",
       "      <td>Yes</td>\n",
       "      <td>NaN</td>\n",
       "    </tr>\n",
       "    <tr>\n",
       "      <th>training for human annotators</th>\n",
       "      <td>No information</td>\n",
       "      <td>No information</td>\n",
       "      <td>NaN</td>\n",
       "    </tr>\n",
       "    <tr>\n",
       "      <th>formal instructions</th>\n",
       "      <td>no instructions beyond question text</td>\n",
       "      <td>instructions w/ formal definition or examples</td>\n",
       "      <td>NaN</td>\n",
       "    </tr>\n",
       "    <tr>\n",
       "      <th>prescreening for crowdwork platforms</th>\n",
       "      <td>NaN</td>\n",
       "      <td>NaN</td>\n",
       "      <td>NaN</td>\n",
       "    </tr>\n",
       "    <tr>\n",
       "      <th>multiple annotator overlap</th>\n",
       "      <td>Yes for all items</td>\n",
       "      <td>Yes for all items</td>\n",
       "      <td>NaN</td>\n",
       "    </tr>\n",
       "    <tr>\n",
       "      <th>reported inter-annotator agreement</th>\n",
       "      <td>No</td>\n",
       "      <td>No</td>\n",
       "      <td>NaN</td>\n",
       "    </tr>\n",
       "    <tr>\n",
       "      <th>reported crowdworker compensation</th>\n",
       "      <td>NaN</td>\n",
       "      <td>NaN</td>\n",
       "      <td>NaN</td>\n",
       "    </tr>\n",
       "    <tr>\n",
       "      <th>link to dataset available</th>\n",
       "      <td>No</td>\n",
       "      <td>No</td>\n",
       "      <td>NaN</td>\n",
       "    </tr>\n",
       "    <tr>\n",
       "      <th>corpus</th>\n",
       "      <td>Scopus</td>\n",
       "      <td>Scopus</td>\n",
       "      <td>Scopus</td>\n",
       "    </tr>\n",
       "    <tr>\n",
       "      <th>keywords</th>\n",
       "      <td>sentiment analysis; non-English</td>\n",
       "      <td>sentiment analysis; non-English; political sci...</td>\n",
       "      <td>sentiment analysis; finance; public opinion</td>\n",
       "    </tr>\n",
       "    <tr>\n",
       "      <th>venue_publisher</th>\n",
       "      <td>IEEE</td>\n",
       "      <td>IEEE</td>\n",
       "      <td>IEEE</td>\n",
       "    </tr>\n",
       "    <tr>\n",
       "      <th>venue_type</th>\n",
       "      <td>Non-ArXived refereed conference proceedings</td>\n",
       "      <td>Non-ArXived refereed conference proceedings</td>\n",
       "      <td>Non-ArXived refereed conference proceedings</td>\n",
       "    </tr>\n",
       "  </tbody>\n",
       "</table>\n",
       "</div>"
      ],
      "text/plain": [
       "                                                                                0                                                  1                                            2\n",
       "paper_UID                                b7c485f39101623c7b90669f2e27b7fea90d41b7           2717bbfa1a2e553f8739608d95941e1a2ca976c1     f906d92ba005b46d35cc055edf7734d50d897f8b\n",
       "original classification task                                                  Yes                                                Yes                                          Yes\n",
       "labels from human annotation                                                  Yes                                                Yes                                           No\n",
       "used original human annotation                                                Yes                                                Yes                                          NaN\n",
       "used external human annotation data                                            No                                                 No                                          NaN\n",
       "original human annotation source                                            Other                                     No information                                          NaN\n",
       "# of annotators specified                                                      No                                                Yes                                          NaN\n",
       "training for human annotators                                      No information                                     No information                                          NaN\n",
       "formal instructions                          no instructions beyond question text      instructions w/ formal definition or examples                                          NaN\n",
       "prescreening for crowdwork platforms                                          NaN                                                NaN                                          NaN\n",
       "multiple annotator overlap                                      Yes for all items                                  Yes for all items                                          NaN\n",
       "reported inter-annotator agreement                                             No                                                 No                                          NaN\n",
       "reported crowdworker compensation                                             NaN                                                NaN                                          NaN\n",
       "link to dataset available                                                      No                                                 No                                          NaN\n",
       "corpus                                                                     Scopus                                             Scopus                                       Scopus\n",
       "keywords                                          sentiment analysis; non-English  sentiment analysis; non-English; political sci...  sentiment analysis; finance; public opinion\n",
       "venue_publisher                                                              IEEE                                               IEEE                                         IEEE\n",
       "venue_type                            Non-ArXived refereed conference proceedings        Non-ArXived refereed conference proceedings  Non-ArXived refereed conference proceedings"
      ]
     },
     "execution_count": 4,
     "metadata": {},
     "output_type": "execute_result"
    }
   ],
   "source": [
    "df[0:3].T"
   ]
  },
  {
   "cell_type": "markdown",
   "metadata": {},
   "source": [
    "## Recode venue_type into more fine-grained variables"
   ]
  },
  {
   "cell_type": "code",
   "execution_count": 5,
   "metadata": {},
   "outputs": [],
   "source": [
    "def split_corpus(venue_type):\n",
    "    if 'Non-ArXived' in str(venue_type):\n",
    "        return 'Scopus'\n",
    "    else:\n",
    "        return 'ArXiv'"
   ]
  },
  {
   "cell_type": "code",
   "execution_count": 6,
   "metadata": {},
   "outputs": [],
   "source": [
    "df['corpus'] = df['venue_type'].apply(split_corpus)"
   ]
  },
  {
   "cell_type": "code",
   "execution_count": 7,
   "metadata": {},
   "outputs": [
    {
     "data": {
      "text/plain": [
       "ArXiv     135\n",
       "Scopus     29\n",
       "Name: corpus, dtype: int64"
      ]
     },
     "execution_count": 7,
     "metadata": {},
     "output_type": "execute_result"
    }
   ],
   "source": [
    "df['corpus'].value_counts()"
   ]
  },
  {
   "cell_type": "code",
   "execution_count": 8,
   "metadata": {},
   "outputs": [
    {
     "data": {
      "text/plain": [
       "Preprint never published                       57\n",
       "Postprint of refereed conference proceeding    40\n",
       "Non-ArXived refereed conference proceedings    23\n",
       "Preprint of refereed conference proceeding     17\n",
       "Postprint of refereed journal article           8\n",
       "Preprint of refereed journal article            7\n",
       "Non-ArXived refereed journal article            6\n",
       "Preprint of workshop paper                      3\n",
       "Postprint of workshop paper                     2\n",
       "Name: venue_type, dtype: int64"
      ]
     },
     "execution_count": 8,
     "metadata": {},
     "output_type": "execute_result"
    }
   ],
   "source": [
    "df['venue_type'].value_counts()"
   ]
  },
  {
   "cell_type": "code",
   "execution_count": 9,
   "metadata": {},
   "outputs": [],
   "source": [
    "def prepost_consol(venue_type):\n",
    "    venue_type = str(venue_type)\n",
    "    if 'Non-ArXived' in venue_type:\n",
    "        return 'Non-ArXived'\n",
    "    elif venue_type == 'Preprint never published':\n",
    "        return venue_type\n",
    "    elif venue_type[0:9] == 'Postprint':\n",
    "        return 'Postprint'\n",
    "    elif venue_type[0:8] == 'Preprint':\n",
    "        return 'Preprint'\n",
    "    else:\n",
    "        return np.nan\n",
    "    \n",
    "def venue_consol(venue_type):\n",
    "    venue_type = str(venue_type)\n",
    "    if venue_type == 'Preprint never published':\n",
    "        return venue_type\n",
    "    elif 'conference' in venue_type:\n",
    "        return \"Conference\"\n",
    "    elif \"workshop\" in venue_type:\n",
    "        return 'Workshop'\n",
    "    elif \"journal\" in venue_type:\n",
    "        return 'Journal'\n",
    "    else:\n",
    "        return np.nan\n",
    "    \n",
    "def prepost_venue_consol(venue_type):\n",
    "    venue_type = str(venue_type)\n",
    "    if 'Non-ArXived' in venue_type:\n",
    "        return 'Non-ArXived'\n",
    "    elif venue_type == 'Preprint never published':\n",
    "        return venue_type\n",
    "    elif venue_type[0:9] == 'Postprint':\n",
    "        return 'Postprint'\n",
    "    elif venue_type[0:8] == 'Preprint':\n",
    "        return 'Preprint'\n",
    "    else:\n",
    "        return np.nan"
   ]
  },
  {
   "cell_type": "code",
   "execution_count": 10,
   "metadata": {},
   "outputs": [],
   "source": [
    "df['venue_type_consol'] = df.venue_type.apply(venue_consol)"
   ]
  },
  {
   "cell_type": "code",
   "execution_count": 11,
   "metadata": {},
   "outputs": [],
   "source": [
    "df['venue_type_prepost_consol'] = df.venue_type.apply(prepost_consol)"
   ]
  },
  {
   "cell_type": "markdown",
   "metadata": {},
   "source": [
    "## Calculate annotation information scores"
   ]
  },
  {
   "cell_type": "code",
   "execution_count": 12,
   "metadata": {},
   "outputs": [],
   "source": [
    "def annot_score_raw(row):\n",
    "    score = 0\n",
    "    base_score = 0\n",
    "    if row['used original human annotation'] != 'Yes':\n",
    "        return np.nan\n",
    "    else:\n",
    "        if row['original human annotation source'] == 'No information':\n",
    "            base_score += 1\n",
    "        elif pd.isnull(row['original human annotation source']):\n",
    "            base_score += 1\n",
    "        elif len(row['original human annotation source'])>3:\n",
    "            base_score +=1 \n",
    "            score += 1\n",
    "        else:\n",
    "            raise Exception(\"Unexpected value\")\n",
    "        \n",
    "        if row['training for human annotators'] == 'No information':\n",
    "            base_score += 1\n",
    "        elif pd.isnull(row['training for human annotators']):\n",
    "            base_score += 1\n",
    "        elif len(row['training for human annotators']) >3:\n",
    "            base_score +=1 \n",
    "            score += 1  \n",
    "        else:\n",
    "            raise Exception(\"Unexpected value\")\n",
    "\n",
    "        if row['formal instructions '] == 'No information':\n",
    "            base_score +=1\n",
    "        elif row['formal instructions '] == 'instructions w/ formal definition or examples':\n",
    "            base_score +=1\n",
    "            score += 1\n",
    "        elif row['formal instructions '] == 'no instructions beyond question text':\n",
    "            base_score +=1\n",
    "            score += 1\n",
    "        elif pd.isnull(row['formal instructions ']):\n",
    "            base_score += 1\n",
    "        else:\n",
    "            raise Exception(\"Unexpected value\")\n",
    "\n",
    "        if row['original human annotation source'] == 'Other crowdwork' or row['original human annotation source'] == 'Mechanical Turk':\n",
    "            if row['prescreening for crowdwork platforms'] == 'No information':\n",
    "                base_score += 1\n",
    "            elif pd.isnull(row['prescreening for crowdwork platforms']):\n",
    "                base_score += 1\n",
    "            elif len(row['prescreening for crowdwork platforms']) > 3:\n",
    "                score += 1\n",
    "                base_score += 1\n",
    "            else:\n",
    "                raise Exception(\"Unexpected value\")\n",
    "            \n",
    "            if row['reported crowdworker compensation'] == 'Yes':\n",
    "                base_score += 1\n",
    "                score += 1\n",
    "            elif row['reported crowdworker compensation'] == 'No':\n",
    "                base_score += 1\n",
    "            elif pd.isnull(row['reported crowdworker compensation']):\n",
    "                base_score += 1\n",
    "            else:\n",
    "                raise Exception(\"Unexpected value\")\n",
    "                \n",
    "        \n",
    "        if row['multiple annotator overlap'] == 'No information':\n",
    "            base_score += 1\n",
    "        elif row['multiple annotator overlap'] == 'No':\n",
    "            score += 1\n",
    "            base_score += 1\n",
    "        elif pd.isnull(row['multiple annotator overlap']):\n",
    "            base_score += 1\n",
    "        elif len(row['multiple annotator overlap']) > 3:\n",
    "            score += 1\n",
    "            base_score += 1\n",
    "        else:\n",
    "            raise Exception(\"Unexpected value\")\n",
    "        \n",
    "        if row['multiple annotator overlap'][0:3] == 'Yes':\n",
    "            if row['reported inter-annotator agreement'] == 'Yes':\n",
    "                base_score += 1\n",
    "                score += 1\n",
    "            elif row['reported inter-annotator agreement'] == 'No':\n",
    "                base_score += 1\n",
    "            elif pd.isnull(row['reported inter-annotator agreement']):\n",
    "                base_score += 1\n",
    "            else:\n",
    "                raise Exception(\"Unexpected value\")\n",
    "                \n",
    "        if row['link to dataset available'] == 'Yes':\n",
    "            base_score += 1\n",
    "            score += 1\n",
    "        elif row['link to dataset available'] == 'No':\n",
    "            base_score += 1\n",
    "        elif pd.isnull(row['link to dataset available']):\n",
    "            base_score += 1\n",
    "        else:\n",
    "            raise Exception(\"Unexpected value\")\n",
    "            \n",
    "        if row['# of annotators specified'] == 'Yes':\n",
    "            base_score += 1\n",
    "            score += 1\n",
    "        elif row['# of annotators specified'] == 'No':\n",
    "            base_score += 1\n",
    "        elif pd.isnull(row['# of annotators specified']):\n",
    "            base_score += 1\n",
    "        else:\n",
    "            print(row)\n",
    "            raise Exception(\"Unexpected value\")\n",
    "            \n",
    "\n",
    "        return score\n",
    "    \n",
    "    \n",
    "def annot_score_normalized(row):\n",
    "    score = 0\n",
    "    base_score = 0\n",
    "    if row['used original human annotation'] != 'Yes':\n",
    "        return np.nan\n",
    "    else:\n",
    "        if row['original human annotation source'] == 'No information':\n",
    "            base_score += 1\n",
    "        elif pd.isnull(row['original human annotation source']):\n",
    "            base_score += 1\n",
    "        elif len(row['original human annotation source'])>3:\n",
    "            base_score +=1 \n",
    "            score += 1\n",
    "        else:\n",
    "            raise Exception(\"Unexpected value\")\n",
    "        \n",
    "        if row['training for human annotators'] == 'No information':\n",
    "            base_score += 1\n",
    "        elif pd.isnull(row['training for human annotators']):\n",
    "            base_score += 1\n",
    "        elif len(row['training for human annotators']) >3:\n",
    "            base_score +=1 \n",
    "            score += 1  \n",
    "        else:\n",
    "            raise Exception(\"Unexpected value\")\n",
    "\n",
    "        if row['formal instructions '] == 'No information':\n",
    "            base_score +=1\n",
    "        elif row['formal instructions '] == 'instructions w/ formal definition or examples':\n",
    "            base_score +=1\n",
    "            score += 1\n",
    "        elif row['formal instructions '] == 'no instructions beyond question text':\n",
    "            base_score +=1\n",
    "            score += 1\n",
    "        elif pd.isnull(row['formal instructions ']):\n",
    "            base_score += 1\n",
    "        else:\n",
    "            raise Exception(\"Unexpected value\")\n",
    "\n",
    "        if row['original human annotation source'] == 'Other crowdwork' or row['original human annotation source'] == 'Mechanical Turk':\n",
    "            if row['prescreening for crowdwork platforms'] == 'No information':\n",
    "                base_score += 1\n",
    "            elif pd.isnull(row['prescreening for crowdwork platforms']):\n",
    "                base_score += 1\n",
    "            elif len(row['prescreening for crowdwork platforms']) > 3:\n",
    "                score += 1\n",
    "                base_score += 1\n",
    "            else:\n",
    "                raise Exception(\"Unexpected value\")\n",
    "            \n",
    "            if row['reported crowdworker compensation'] == 'Yes':\n",
    "                base_score += 1\n",
    "                score += 1\n",
    "            elif row['reported crowdworker compensation'] == 'No':\n",
    "                base_score += 1\n",
    "            elif pd.isnull(row['reported crowdworker compensation']):\n",
    "                base_score += 1\n",
    "            else:\n",
    "                raise Exception(\"Unexpected value\")\n",
    "                \n",
    "        \n",
    "        if row['multiple annotator overlap'] == 'No information':\n",
    "            base_score += 1\n",
    "        elif row['multiple annotator overlap'] == 'No':\n",
    "            score += 1\n",
    "            base_score += 1\n",
    "        elif pd.isnull(row['multiple annotator overlap']):\n",
    "            base_score += 1\n",
    "        elif len(row['multiple annotator overlap']) > 3:\n",
    "            score += 1\n",
    "            base_score += 1\n",
    "        else:\n",
    "            raise Exception(\"Unexpected value\")\n",
    "        \n",
    "        if row['multiple annotator overlap'][0:3] == 'Yes':\n",
    "            if row['reported inter-annotator agreement'] == 'Yes':\n",
    "                base_score += 1\n",
    "                score += 1\n",
    "            elif row['reported inter-annotator agreement'] == 'No':\n",
    "                base_score += 1\n",
    "            elif pd.isnull(row['reported inter-annotator agreement']):\n",
    "                base_score += 1\n",
    "            else:\n",
    "                raise Exception(\"Unexpected value\")\n",
    "                \n",
    "        if row['link to dataset available'] == 'Yes':\n",
    "            base_score += 1\n",
    "            score += 1\n",
    "        elif row['link to dataset available'] == 'No':\n",
    "            base_score += 1\n",
    "        elif pd.isnull(row['link to dataset available']):\n",
    "            base_score += 1\n",
    "        else:\n",
    "            raise Exception(\"Unexpected value\")\n",
    "            \n",
    "        if row['# of annotators specified'] == 'Yes':\n",
    "            base_score += 1\n",
    "            score += 1\n",
    "        elif row['# of annotators specified'] == 'No':\n",
    "            base_score += 1\n",
    "        elif pd.isnull(row['# of annotators specified']):\n",
    "            base_score += 1\n",
    "        else:\n",
    "            print(row)\n",
    "            raise Exception(\"Unexpected value\")\n",
    "            \n",
    "\n",
    "    return score/base_score\n"
   ]
  },
  {
   "cell_type": "code",
   "execution_count": 13,
   "metadata": {},
   "outputs": [],
   "source": [
    "df['annot_score_normalized'] = df.apply(annot_score_normalized, axis=1)\n",
    "df['annot_score_raw'] = df.apply(annot_score_raw, axis=1)"
   ]
  },
  {
   "cell_type": "markdown",
   "metadata": {},
   "source": [
    "# Results"
   ]
  },
  {
   "cell_type": "markdown",
   "metadata": {},
   "source": [
    "## Counts and proportions for each question"
   ]
  },
  {
   "cell_type": "code",
   "execution_count": 14,
   "metadata": {},
   "outputs": [],
   "source": [
    "def frac_to_percent(df):\n",
    "    return df.astype(float).map(lambda n: '{:.2%}'.format(n))"
   ]
  },
  {
   "cell_type": "code",
   "execution_count": 15,
   "metadata": {},
   "outputs": [],
   "source": [
    "def counts_prop_df(df_or_series, dropna=True, labels=True):\n",
    "\n",
    "    df = pd.concat([pd.DataFrame(df_or_series.value_counts(dropna=dropna)).T,pd.DataFrame(frac_to_percent(df_or_series.value_counts(dropna=dropna, normalize=True))).T])\n",
    "\n",
    "    if labels is True:\n",
    "        df.index = [df.index[0] + \" (count)\", df.index[0] + \" (proportion)\"]\n",
    "    else:\n",
    "        df.index = [\"Count\", \"Proportion\"]\n",
    "    return df"
   ]
  },
  {
   "cell_type": "code",
   "execution_count": 16,
   "metadata": {},
   "outputs": [
    {
     "name": "stdout",
     "output_type": "stream",
     "text": [
      "---- original classification task ---\n",
      "Yes       142\n",
      "No         17\n",
      "Unsure      5\n",
      "Name: original classification task, dtype: int64\n",
      "\n",
      "---- labels from human annotation ---\n",
      "Yes       93\n",
      "No        46\n",
      "NaN       21\n",
      "Unsure     4\n",
      "Name: labels from human annotation, dtype: int64\n",
      "\n",
      "---- used original human annotation ---\n",
      "Yes       72\n",
      "NaN       68\n",
      "No        21\n",
      "Unsure     3\n",
      "Name: used original human annotation, dtype: int64\n",
      "\n",
      "---- used external human annotation data ---\n",
      "NaN       68\n",
      "No        61\n",
      "Yes       32\n",
      "Unsure     3\n",
      "Name: used external human annotation data, dtype: int64\n",
      "\n",
      "---- original human annotation source ---\n",
      "NaN                                 90\n",
      "Paper's authors                     22\n",
      "No information                      18\n",
      "Academic experts / professionals    16\n",
      "Other crowdwork                      8\n",
      "Other                                7\n",
      "Mechanical Turk                      3\n",
      "Name: original human annotation source, dtype: int64\n",
      "\n",
      "---- # of annotators specified ---\n",
      "NaN    90\n",
      "Yes    41\n",
      "No     33\n",
      "Name: # of annotators specified, dtype: int64\n",
      "\n",
      "---- training for human annotators ---\n",
      "NaN                      90\n",
      "No information           63\n",
      "some training details    11\n",
      "Name: training for human annotators, dtype: int64\n",
      "\n",
      "---- formal instructions  ---\n",
      "NaN                                              90\n",
      "No information                                   35\n",
      "instructions w/ formal definition or examples    32\n",
      "no instructions beyond question text              7\n",
      "Name: formal instructions , dtype: int64\n",
      "\n",
      "---- prescreening for crowdwork platforms ---\n",
      "NaN                              153\n",
      "Project-specific prescreening      5\n",
      "No information                     4\n",
      "Location qualification             2\n",
      "Name: prescreening for crowdwork platforms, dtype: int64\n",
      "\n",
      "---- multiple annotator overlap ---\n",
      "NaN                   90\n",
      "No information        34\n",
      "Yes for all items     31\n",
      "Yes for some items     6\n",
      "No                     3\n",
      "Name: multiple annotator overlap, dtype: int64\n",
      "\n",
      "---- reported inter-annotator agreement ---\n",
      "NaN    127\n",
      "Yes     26\n",
      "No      11\n",
      "Name: reported inter-annotator agreement, dtype: int64\n",
      "\n",
      "---- reported crowdworker compensation ---\n",
      "NaN    153\n",
      "No      11\n",
      "Name: reported crowdworker compensation, dtype: int64\n",
      "\n",
      "---- link to dataset available ---\n",
      "NaN    90\n",
      "No     66\n",
      "Yes     8\n",
      "Name: link to dataset available, dtype: int64\n",
      "\n"
     ]
    }
   ],
   "source": [
    "for c in df.columns[1:14]:\n",
    "    print(\"---- %s ---\" % c)\n",
    "    print(df[c].value_counts(dropna=False))\n",
    "    print()    \n"
   ]
  },
  {
   "cell_type": "code",
   "execution_count": null,
   "metadata": {},
   "outputs": [],
   "source": []
  },
  {
   "cell_type": "markdown",
   "metadata": {},
   "source": [
    "## Paper information scores"
   ]
  },
  {
   "cell_type": "code",
   "execution_count": 17,
   "metadata": {},
   "outputs": [
    {
     "data": {
      "image/png": "[encoded data removed]",
      "text/plain": [
       "<Figure size 396x252 with 1 Axes>"
      ]
     },
     "metadata": {},
     "output_type": "display_data"
    }
   ],
   "source": [
    "sns.set(style=\"whitegrid\", font_scale=1.75, rc={'figure.figsize':(5.5,3.5)})\n",
    "ax = sns.distplot(df['annot_score_normalized'].dropna(), bins=8, kde=False)\n",
    "ax.set_xlabel(\"Normalized information score\")\n",
    "ax.set_ylabel(\"Count\")\n",
    "plt.savefig(\"figures/info_score_normalized_hist.pdf\", dpi=300, bbox_inches=\"tight\")\n",
    "plt.savefig(\"figures/info_score_normalized_hist.png\", bbox_inches=\"tight\")"
   ]
  },
  {
   "cell_type": "code",
   "execution_count": 18,
   "metadata": {},
   "outputs": [
    {
     "data": {
      "text/plain": [
       "count    72.000000\n",
       "mean      0.441275\n",
       "std       0.261254\n",
       "min       0.000000\n",
       "25%       0.166667\n",
       "50%       0.428571\n",
       "75%       0.666667\n",
       "max       1.000000\n",
       "Name: annot_score_normalized, dtype: float64"
      ]
     },
     "execution_count": 18,
     "metadata": {},
     "output_type": "execute_result"
    }
   ],
   "source": [
    "df['annot_score_normalized'].describe()"
   ]
  },
  {
   "cell_type": "code",
   "execution_count": 19,
   "metadata": {},
   "outputs": [
    {
     "data": {
      "text/plain": [
       "0.166667    14\n",
       "0.714286    10\n",
       "0.333333     8\n",
       "0.666667     6\n",
       "0.000000     6\n",
       "0.428571     6\n",
       "0.571429     4\n",
       "0.857143     4\n",
       "0.500000     3\n",
       "0.285714     3\n",
       "0.777778     2\n",
       "0.555556     2\n",
       "0.444444     1\n",
       "0.250000     1\n",
       "1.000000     1\n",
       "0.625000     1\n",
       "Name: annot_score_normalized, dtype: int64"
      ]
     },
     "execution_count": 19,
     "metadata": {},
     "output_type": "execute_result"
    }
   ],
   "source": [
    "df['annot_score_normalized'].value_counts()"
   ]
  },
  {
   "cell_type": "code",
   "execution_count": 20,
   "metadata": {},
   "outputs": [
    {
     "data": {
      "image/png": "[encoded data removed]",
      "text/plain": [
       "<Figure size 396x252 with 1 Axes>"
      ]
     },
     "metadata": {},
     "output_type": "display_data"
    }
   ],
   "source": [
    "sns.set(style=\"whitegrid\", font_scale=1.75, rc={'figure.figsize':(5.5,3.5)})\n",
    "ax = sns.distplot(df['annot_score_raw'].dropna(), bins=7, kde=False)\n",
    "ax.set_xlabel(\"Raw information score\")\n",
    "ax.set_ylabel(\"Count\")\n",
    "ax.set_xlim(-0.5,9)\n",
    "plt.savefig(\"figures/info_score_raw_hist.pdf\", dpi=300, bbox_inches=\"tight\")\n",
    "plt.savefig(\"figures/info_score_raw_hist.png\", bbox_inches=\"tight\")"
   ]
  },
  {
   "cell_type": "code",
   "execution_count": 21,
   "metadata": {},
   "outputs": [
    {
     "data": {
      "text/plain": [
       "1.0    14\n",
       "5.0    13\n",
       "2.0    12\n",
       "3.0     9\n",
       "6.0     8\n",
       "4.0     7\n",
       "0.0     6\n",
       "7.0     3\n",
       "Name: annot_score_raw, dtype: int64"
      ]
     },
     "execution_count": 21,
     "metadata": {},
     "output_type": "execute_result"
    }
   ],
   "source": [
    "df['annot_score_raw'].dropna().value_counts()"
   ]
  },
  {
   "cell_type": "code",
   "execution_count": 22,
   "metadata": {},
   "outputs": [
    {
     "data": {
      "image/png": "[encoded data removed]",
      "text/plain": [
       "<Figure size 864x288 with 2 Axes>"
      ]
     },
     "metadata": {},
     "output_type": "display_data"
    }
   ],
   "source": [
    "fig, ax = plt.subplots(nrows=1, ncols=2, sharex=False, figsize=[12,4])\n",
    "\n",
    "sns.set(style=\"whitegrid\", font_scale=1.95)\n",
    "\n",
    "sns.distplot(df['annot_score_raw'].dropna(), ax=ax[0], bins=8, kde=False, hist_kws={\"alpha\":1})\n",
    "ax[0].set_xlabel(\"Raw information score\")\n",
    "ax[0].set_ylabel(\"Count\")\n",
    "ax[0].set_xlim(-0.5,8)\n",
    "ax[0].set_xticks(range(0,10))\n",
    "\n",
    "sns.distplot(df['annot_score_normalized'].dropna(), ax=ax[1], bins=8, kde=False, hist_kws={\"alpha\":1})\n",
    "ax[1].set_xlabel(\"Normalized information score\")\n",
    "ax[1].set_ylabel(\"Count\")\n",
    "ax[1].set_xticks(np.arange(0,1.25,.25))\n",
    "\n",
    "\n",
    "plt.tight_layout()\n",
    "\n",
    "plt.savefig(\"figures/info_score_raw_norm_hist.pdf\", dpi=300, bbox_inches=\"tight\")\n",
    "plt.savefig(\"figures/info_score_raw_norm_hist.png\", bbox_inches=\"tight\")"
   ]
  },
  {
   "cell_type": "code",
   "execution_count": 23,
   "metadata": {},
   "outputs": [
    {
     "data": {
      "text/plain": [
       "count    72.000000\n",
       "mean      0.441275\n",
       "std       0.261254\n",
       "min       0.000000\n",
       "25%       0.166667\n",
       "50%       0.428571\n",
       "75%       0.666667\n",
       "max       1.000000\n",
       "Name: annot_score_normalized, dtype: float64"
      ]
     },
     "execution_count": 23,
     "metadata": {},
     "output_type": "execute_result"
    }
   ],
   "source": [
    "df['annot_score_normalized'].describe()"
   ]
  },
  {
   "cell_type": "code",
   "execution_count": 24,
   "metadata": {},
   "outputs": [
    {
     "data": {
      "text/plain": [
       "0.0     6\n",
       "1.0    14\n",
       "2.0    12\n",
       "3.0     9\n",
       "4.0     7\n",
       "5.0    13\n",
       "6.0     8\n",
       "7.0     3\n",
       "Name: annot_score_raw, dtype: int64"
      ]
     },
     "execution_count": 24,
     "metadata": {},
     "output_type": "execute_result"
    }
   ],
   "source": [
    "df['annot_score_raw'].value_counts(sort=False).sort_index()"
   ]
  },
  {
   "cell_type": "code",
   "execution_count": 25,
   "metadata": {},
   "outputs": [
    {
     "data": {
      "text/plain": [
       "count    72.000000\n",
       "mean      3.152778\n",
       "std       2.053233\n",
       "min       0.000000\n",
       "25%       1.000000\n",
       "50%       3.000000\n",
       "75%       5.000000\n",
       "max       7.000000\n",
       "Name: annot_score_raw, dtype: float64"
      ]
     },
     "execution_count": 25,
     "metadata": {},
     "output_type": "execute_result"
    }
   ],
   "source": [
    "df['annot_score_raw'].describe()"
   ]
  },
  {
   "cell_type": "markdown",
   "metadata": {},
   "source": [
    "## Venue type & corpus-based analyses"
   ]
  },
  {
   "cell_type": "code",
   "execution_count": 26,
   "metadata": {},
   "outputs": [],
   "source": [
    "venue_type_order = [ 'Preprint never published',\n",
    " 'Preprint of refereed conference proceeding',\n",
    " 'Preprint of refereed journal article',\n",
    " 'Preprint of refereed workshop proceeding',\n",
    " 'Preprint of workshop paper',\n",
    " 'Postprint of refereed conference proceeding',\n",
    " 'Postprint of refereed journal article',\n",
    " 'Postprint of refereed workshop proceeding',\n",
    "'Non-ArXived refereed conference proceedings',\n",
    " 'Non-ArXived refereed journal article',]"
   ]
  },
  {
   "cell_type": "code",
   "execution_count": 27,
   "metadata": {},
   "outputs": [],
   "source": [
    "venue_type_order = list(df[['venue_type', 'annot_score_normalized']].dropna()['venue_type'].value_counts().sort_index().index)"
   ]
  },
  {
   "cell_type": "code",
   "execution_count": 28,
   "metadata": {},
   "outputs": [],
   "source": [
    "venue_type_order = list(df[['venue_type', 'annot_score_normalized']].dropna().groupby('venue_type')['annot_score_normalized'].median().sort_values(ascending=False).index)"
   ]
  },
  {
   "cell_type": "code",
   "execution_count": 29,
   "metadata": {},
   "outputs": [
    {
     "data": {
      "image/png": "[encoded data removed]",
      "text/plain": [
       "<Figure size 306x482.4 with 1 Axes>"
      ]
     },
     "metadata": {},
     "output_type": "display_data"
    }
   ],
   "source": [
    "sns.set(style=\"darkgrid\", font_scale=1.37, rc={'figure.figsize':(4.25,6.7)})\n",
    "ax = sns.boxplot(data=df, x='annot_score_normalized', y='venue_type', order=venue_type_order, color='w')\n",
    "ax.set_xlabel(\"Normalized information score\")\n",
    "ax.set_ylabel(\"\")\n",
    "plt.savefig(\"figures/info_score_normalized_venue_type.png\", bbox_inches=\"tight\")"
   ]
  },
  {
   "cell_type": "code",
   "execution_count": 30,
   "metadata": {},
   "outputs": [
    {
     "data": {
      "image/png": "[encoded data removed]",
      "text/plain": [
       "<Figure size 288x126 with 1 Axes>"
      ]
     },
     "metadata": {},
     "output_type": "display_data"
    }
   ],
   "source": [
    "sns.set(style=\"darkgrid\", font_scale=1.55, rc={'figure.figsize':(4,1.75)})\n",
    "ax = sns.boxplot(data=df, x='annot_score_normalized', y='venue_type_prepost_consol',\n",
    "                 color='w', medianprops={'color':'red'}, showmeans=True, showfliers=False)\n",
    "ax.set_xlabel(\"Normalized info score\")\n",
    "ax.set_ylabel(\"\")\n",
    "\n",
    "for l in ax.get_children():\n",
    "    if type(l) == matplotlib.patches.PathPatch:\n",
    "        l.set_edgecolor('black')\n",
    "    if type(l) == matplotlib.lines.Line2D:\n",
    "        if l.get_color() != 'red':\n",
    "            l.set_color('black')\n",
    "\n",
    "ax.set_yticklabels([\"Non-ArXived (Scopus)\", \"Preprint never published\", \"Postprint of publication\", \"Preprint of publication\"])\n",
    "plt.savefig(\"figures/info_score_normalized_venue_type_prepost.png\", bbox_inches=\"tight\")\n",
    "plt.savefig(\"figures/info_score_normalized_venue_type_prepost.pdf\", bbox_inches=\"tight\")"
   ]
  },
  {
   "cell_type": "code",
   "execution_count": 31,
   "metadata": {},
   "outputs": [
    {
     "data": {
      "image/png": "[encoded data removed]",
      "text/plain": [
       "<Figure size 288x126 with 1 Axes>"
      ]
     },
     "metadata": {},
     "output_type": "display_data"
    }
   ],
   "source": [
    "sns.set(style=\"darkgrid\", font_scale=1.55, rc={'figure.figsize':(4,1.75)})\n",
    "medianprops = dict(linewidth=2.5, linecolor='firebrick')\n",
    "boxcolors = dict(boxes='r', whiskers='r', medians='r', caps='r')\n",
    "ax = sns.boxplot(data=df, x='annot_score_normalized', y='venue_type_consol', color='w', medianprops={'color':'red'},\n",
    "                order = ['Conference', 'Preprint never published', 'Workshop', 'Journal'], showmeans=True)\n",
    "\n",
    "ax.set_xlabel(\"Normalized info score\")\n",
    "ax.set_ylabel(\"\")\n",
    "\n",
    "for l in ax.get_children():\n",
    "    if type(l) == matplotlib.patches.PathPatch:\n",
    "        l.set_edgecolor('black')\n",
    "    if type(l) == matplotlib.lines.Line2D:\n",
    "        if l.get_color() != 'red':\n",
    "            l.set_color('black')\n",
    "\n",
    "ax.set_yticklabels([\"Conference proceedings\", \"Journal article\", \"Preprint never published\", \"Workshop paper\"])\n",
    "plt.savefig(\"figures/info_score_normalized_venue_type_consol.png\", bbox_inches=\"tight\")\n",
    "plt.savefig(\"figures/info_score_normalized_venue_type_consol.pdf\", bbox_inches=\"tight\")\n"
   ]
  },
  {
   "cell_type": "code",
   "execution_count": 32,
   "metadata": {},
   "outputs": [
    {
     "data": {
      "text/plain": [
       "Conference                  80\n",
       "Preprint never published    57\n",
       "Journal                     21\n",
       "Workshop                     5\n",
       "Name: venue_type_consol, dtype: int64"
      ]
     },
     "execution_count": 32,
     "metadata": {},
     "output_type": "execute_result"
    }
   ],
   "source": [
    "df['venue_type_consol'].value_counts()"
   ]
  },
  {
   "cell_type": "code",
   "execution_count": 33,
   "metadata": {},
   "outputs": [
    {
     "data": {
      "image/png": "[encoded data removed]",
      "text/plain": [
       "<Figure size 684x180 with 2 Axes>"
      ]
     },
     "metadata": {},
     "output_type": "display_data"
    }
   ],
   "source": [
    "sns.set(style=\"darkgrid\", font_scale=1.25, rc={'figure.figsize':(9.5,2.5)})\n",
    "medianprops = dict(linewidth=2.5, linecolor='firebrick')\n",
    "boxcolors = dict(boxes='r', whiskers='r', medians='r', caps='r')\n",
    "fig, axs = plt.subplots(nrows=1, ncols=2, sharex=True)\n",
    "order = ['Conference', 'Preprint never published', 'Workshop', 'Journal']\n",
    "\n",
    "sns.boxplot(ax=axs[0], data=df, x='annot_score_normalized', y='venue_type_consol', \n",
    "            color='w', medianprops={'color':'red'}, showmeans=True, order=order)\n",
    "\n",
    "axs[0].set_xlabel(\"Normalized info score\")\n",
    "axs[0].set_ylabel(\"\")\n",
    "\n",
    "for l in axs[0].get_children():\n",
    "    if type(l) == matplotlib.patches.PathPatch:\n",
    "        l.set_edgecolor('black')\n",
    "    if type(l) == matplotlib.lines.Line2D:\n",
    "        if l.get_color() != 'red':\n",
    "            l.set_color('black')\n",
    "\n",
    "axs[0].set_yticklabels([\"Conference proceedings\", \"Journal article\", \"Preprint never published\", \"Workshop paper\"])\n",
    "\n",
    "\n",
    "sns.boxplot(ax=axs[1], data=df, x='annot_score_normalized', y='venue_type_prepost_consol', \n",
    "            color='w', medianprops={'color':'red'}, showmeans=True, showfliers=False)\n",
    "axs[1].set_xlabel(\"Normalized info score\")\n",
    "axs[1].set_ylabel(\"\")\n",
    "\n",
    "for l in axs[1].get_children():\n",
    "    if type(l) == matplotlib.patches.PathPatch:\n",
    "        l.set_edgecolor('black')\n",
    "    if type(l) == matplotlib.lines.Line2D:\n",
    "        if l.get_color() != 'red':\n",
    "            l.set_color('black')\n",
    "\n",
    "axs[1].set_yticklabels([\"Non-ArXived (Scopus)\", \"Preprint never published\", \"Postprint of publication\", \"Preprint of publication\"])\n",
    "\n",
    "plt.tight_layout()\n",
    "\n",
    "\n",
    "plt.savefig(\"figures/info_score_normalized_venue_type_consol_horiz.png\", bbox_inches=\"tight\")\n",
    "plt.savefig(\"figures/info_score_normalized_venue_type_consol_horiz.pdf\", bbox_inches=\"tight\")\n"
   ]
  },
  {
   "cell_type": "code",
   "execution_count": 34,
   "metadata": {},
   "outputs": [
    {
     "data": {
      "text/plain": [
       "Conference                  80\n",
       "Preprint never published    57\n",
       "Journal                     21\n",
       "Workshop                     5\n",
       "Name: venue_type_consol, dtype: int64"
      ]
     },
     "execution_count": 34,
     "metadata": {},
     "output_type": "execute_result"
    }
   ],
   "source": [
    "df.venue_type_consol.value_counts()"
   ]
  },
  {
   "cell_type": "code",
   "execution_count": 35,
   "metadata": {},
   "outputs": [
    {
     "data": {
      "text/plain": [
       "count    3.000000\n",
       "mean     0.507937\n",
       "std      0.137464\n",
       "min      0.428571\n",
       "25%      0.428571\n",
       "50%      0.428571\n",
       "75%      0.547619\n",
       "max      0.666667\n",
       "Name: annot_score_normalized, dtype: float64"
      ]
     },
     "execution_count": 35,
     "metadata": {},
     "output_type": "execute_result"
    }
   ],
   "source": [
    "df.query(\"venue_type_consol == 'Workshop'\").annot_score_normalized.describe()"
   ]
  },
  {
   "cell_type": "code",
   "execution_count": null,
   "metadata": {},
   "outputs": [],
   "source": []
  },
  {
   "cell_type": "code",
   "execution_count": 36,
   "metadata": {},
   "outputs": [
    {
     "data": {
      "text/plain": [
       "Non-ArXived refereed conference proceedings    23\n",
       "Non-ArXived refereed journal article            6\n",
       "Postprint of refereed conference proceeding    40\n",
       "Postprint of refereed journal article           8\n",
       "Postprint of workshop paper                     2\n",
       "Preprint never published                       57\n",
       "Preprint of refereed conference proceeding     17\n",
       "Preprint of refereed journal article            7\n",
       "Preprint of workshop paper                      3\n",
       "Name: venue_type, dtype: int64"
      ]
     },
     "execution_count": 36,
     "metadata": {},
     "output_type": "execute_result"
    }
   ],
   "source": [
    "df['venue_type'].value_counts().sort_index()"
   ]
  },
  {
   "cell_type": "code",
   "execution_count": 37,
   "metadata": {},
   "outputs": [
    {
     "data": {
      "text/plain": [
       "venue_type_prepost_consol\n",
       "Non-ArXived                 0.311012\n",
       "Postprint                   0.473104\n",
       "Preprint                    0.556097\n",
       "Preprint never published    0.439153\n",
       "Name: annot_score_normalized, dtype: float64"
      ]
     },
     "execution_count": 37,
     "metadata": {},
     "output_type": "execute_result"
    }
   ],
   "source": [
    "df.groupby('venue_type_prepost_consol')['annot_score_normalized'].mean()"
   ]
  },
  {
   "cell_type": "code",
   "execution_count": 38,
   "metadata": {},
   "outputs": [
    {
     "data": {
      "text/plain": [
       "venue_type\n",
       "Non-ArXived refereed conference proceedings    0.261905\n",
       "Non-ArXived refereed journal article           0.458333\n",
       "Postprint of refereed conference proceeding    0.464286\n",
       "Postprint of refereed journal article          0.476190\n",
       "Postprint of workshop paper                    0.666667\n",
       "Preprint never published                       0.439153\n",
       "Preprint of refereed conference proceeding     0.598413\n",
       "Preprint of refereed journal article           0.566964\n",
       "Preprint of workshop paper                     0.428571\n",
       "Name: annot_score_normalized, dtype: float64"
      ]
     },
     "execution_count": 38,
     "metadata": {},
     "output_type": "execute_result"
    }
   ],
   "source": [
    "df.groupby('venue_type')['annot_score_normalized'].mean()"
   ]
  },
  {
   "cell_type": "code",
   "execution_count": 39,
   "metadata": {},
   "outputs": [
    {
     "data": {
      "text/plain": [
       "Conference                  80\n",
       "Preprint never published    57\n",
       "Journal                     21\n",
       "Workshop                     5\n",
       "Name: venue_type_consol, dtype: int64"
      ]
     },
     "execution_count": 39,
     "metadata": {},
     "output_type": "execute_result"
    }
   ],
   "source": [
    "df['venue_type_consol'].value_counts()"
   ]
  },
  {
   "cell_type": "code",
   "execution_count": 40,
   "metadata": {},
   "outputs": [
    {
     "data": {
      "text/plain": [
       "Preprint never published    57\n",
       "Postprint                   50\n",
       "Non-ArXived                 29\n",
       "Preprint                    27\n",
       "Name: venue_type_prepost_consol, dtype: int64"
      ]
     },
     "execution_count": 40,
     "metadata": {},
     "output_type": "execute_result"
    }
   ],
   "source": [
    "df['venue_type_prepost_consol'].value_counts()"
   ]
  },
  {
   "cell_type": "code",
   "execution_count": 41,
   "metadata": {},
   "outputs": [
    {
     "data": {
      "text/plain": [
       "Non-ArXived refereed conference proceedings    23\n",
       "Non-ArXived refereed journal article            6\n",
       "Postprint of refereed conference proceeding    40\n",
       "Postprint of refereed journal article           8\n",
       "Postprint of workshop paper                     2\n",
       "Preprint never published                       57\n",
       "Preprint of refereed conference proceeding     17\n",
       "Preprint of refereed journal article            7\n",
       "Preprint of workshop paper                      3\n",
       "Name: venue_type, dtype: int64"
      ]
     },
     "execution_count": 41,
     "metadata": {},
     "output_type": "execute_result"
    }
   ],
   "source": [
    "df['venue_type'].value_counts().sort_index()"
   ]
  },
  {
   "cell_type": "markdown",
   "metadata": {},
   "source": [
    "## Publisher-based analyses"
   ]
  },
  {
   "cell_type": "code",
   "execution_count": 42,
   "metadata": {},
   "outputs": [
    {
     "data": {
      "text/plain": [
       "Index(['ACM', 'ACL', 'Springer', 'Elsevier', 'JMIR', 'UIC', 'AAAI', 'ArXiv', 'Sage', 'IEEE', 'ISCRAM', 'CEUR', 'PloS'], dtype='object', name='venue_publisher')"
      ]
     },
     "execution_count": 42,
     "metadata": {},
     "output_type": "execute_result"
    }
   ],
   "source": [
    "df.query('corpus == \"ArXiv\"').groupby('venue_publisher')['annot_score_normalized'].median().sort_values(ascending=False).index"
   ]
  },
  {
   "cell_type": "code",
   "execution_count": 43,
   "metadata": {},
   "outputs": [
    {
     "data": {
      "text/plain": [
       "Index(['Elsevier', 'Springer', 'IEEE', 'ACM', 'SPC'], dtype='object', name='venue_publisher')"
      ]
     },
     "execution_count": 43,
     "metadata": {},
     "output_type": "execute_result"
    }
   ],
   "source": [
    "df.query('corpus == \"Scopus\"').groupby('venue_publisher')['annot_score_normalized'].median().sort_values(ascending=False).index"
   ]
  },
  {
   "cell_type": "code",
   "execution_count": 44,
   "metadata": {},
   "outputs": [],
   "source": [
    "pub_order_arxiv = ['ACM', 'ACL', 'Springer', 'Elsevier', 'JMIR', 'UIC', 'ArXiv', 'Sage', 'AAAI', 'IEEE', 'ISCRAM']"
   ]
  },
  {
   "cell_type": "code",
   "execution_count": 45,
   "metadata": {},
   "outputs": [],
   "source": [
    "pub_order_scopus = ['Elsevier', 'Springer', 'IEEE', 'ACM']"
   ]
  },
  {
   "cell_type": "code",
   "execution_count": 46,
   "metadata": {},
   "outputs": [
    {
     "data": {
      "text/html": [
       "<div>\n",
       "<style scoped>\n",
       "    .dataframe tbody tr th:only-of-type {\n",
       "        vertical-align: middle;\n",
       "    }\n",
       "\n",
       "    .dataframe tbody tr th {\n",
       "        vertical-align: top;\n",
       "    }\n",
       "\n",
       "    .dataframe thead th {\n",
       "        text-align: right;\n",
       "    }\n",
       "</style>\n",
       "<table border=\"1\" class=\"dataframe\">\n",
       "  <thead>\n",
       "    <tr style=\"text-align: right;\">\n",
       "      <th></th>\n",
       "      <th>count</th>\n",
       "      <th>mean</th>\n",
       "      <th>std</th>\n",
       "      <th>min</th>\n",
       "      <th>25%</th>\n",
       "      <th>50%</th>\n",
       "      <th>75%</th>\n",
       "      <th>max</th>\n",
       "    </tr>\n",
       "    <tr>\n",
       "      <th>venue_publisher</th>\n",
       "      <th></th>\n",
       "      <th></th>\n",
       "      <th></th>\n",
       "      <th></th>\n",
       "      <th></th>\n",
       "      <th></th>\n",
       "      <th></th>\n",
       "      <th></th>\n",
       "    </tr>\n",
       "  </thead>\n",
       "  <tbody>\n",
       "    <tr>\n",
       "      <th>AAAI</th>\n",
       "      <td>3.0</td>\n",
       "      <td>0.425926</td>\n",
       "      <td>0.250514</td>\n",
       "      <td>0.166667</td>\n",
       "      <td>0.305556</td>\n",
       "      <td>0.444444</td>\n",
       "      <td>0.555556</td>\n",
       "      <td>0.666667</td>\n",
       "    </tr>\n",
       "    <tr>\n",
       "      <th>ACL</th>\n",
       "      <td>7.0</td>\n",
       "      <td>0.593537</td>\n",
       "      <td>0.245945</td>\n",
       "      <td>0.250000</td>\n",
       "      <td>0.428571</td>\n",
       "      <td>0.666667</td>\n",
       "      <td>0.690476</td>\n",
       "      <td>1.000000</td>\n",
       "    </tr>\n",
       "    <tr>\n",
       "      <th>ACM</th>\n",
       "      <td>7.0</td>\n",
       "      <td>0.561224</td>\n",
       "      <td>0.228222</td>\n",
       "      <td>0.166667</td>\n",
       "      <td>0.444444</td>\n",
       "      <td>0.666667</td>\n",
       "      <td>0.714286</td>\n",
       "      <td>0.777778</td>\n",
       "    </tr>\n",
       "    <tr>\n",
       "      <th>ArXiv</th>\n",
       "      <td>18.0</td>\n",
       "      <td>0.439153</td>\n",
       "      <td>0.289335</td>\n",
       "      <td>0.000000</td>\n",
       "      <td>0.166667</td>\n",
       "      <td>0.380952</td>\n",
       "      <td>0.702381</td>\n",
       "      <td>0.857143</td>\n",
       "    </tr>\n",
       "    <tr>\n",
       "      <th>CEUR</th>\n",
       "      <td>0.0</td>\n",
       "      <td>NaN</td>\n",
       "      <td>NaN</td>\n",
       "      <td>NaN</td>\n",
       "      <td>NaN</td>\n",
       "      <td>NaN</td>\n",
       "      <td>NaN</td>\n",
       "      <td>NaN</td>\n",
       "    </tr>\n",
       "    <tr>\n",
       "      <th>Elsevier</th>\n",
       "      <td>2.0</td>\n",
       "      <td>0.603175</td>\n",
       "      <td>0.246926</td>\n",
       "      <td>0.428571</td>\n",
       "      <td>0.515873</td>\n",
       "      <td>0.603175</td>\n",
       "      <td>0.690476</td>\n",
       "      <td>0.777778</td>\n",
       "    </tr>\n",
       "    <tr>\n",
       "      <th>IEEE</th>\n",
       "      <td>10.0</td>\n",
       "      <td>0.373810</td>\n",
       "      <td>0.327817</td>\n",
       "      <td>0.000000</td>\n",
       "      <td>0.166667</td>\n",
       "      <td>0.226190</td>\n",
       "      <td>0.702381</td>\n",
       "      <td>0.857143</td>\n",
       "    </tr>\n",
       "    <tr>\n",
       "      <th>ISCRAM</th>\n",
       "      <td>1.0</td>\n",
       "      <td>0.000000</td>\n",
       "      <td>NaN</td>\n",
       "      <td>0.000000</td>\n",
       "      <td>0.000000</td>\n",
       "      <td>0.000000</td>\n",
       "      <td>0.000000</td>\n",
       "      <td>0.000000</td>\n",
       "    </tr>\n",
       "    <tr>\n",
       "      <th>JMIR</th>\n",
       "      <td>1.0</td>\n",
       "      <td>0.571429</td>\n",
       "      <td>NaN</td>\n",
       "      <td>0.571429</td>\n",
       "      <td>0.571429</td>\n",
       "      <td>0.571429</td>\n",
       "      <td>0.571429</td>\n",
       "      <td>0.571429</td>\n",
       "    </tr>\n",
       "    <tr>\n",
       "      <th>PloS</th>\n",
       "      <td>0.0</td>\n",
       "      <td>NaN</td>\n",
       "      <td>NaN</td>\n",
       "      <td>NaN</td>\n",
       "      <td>NaN</td>\n",
       "      <td>NaN</td>\n",
       "      <td>NaN</td>\n",
       "      <td>NaN</td>\n",
       "    </tr>\n",
       "    <tr>\n",
       "      <th>Sage</th>\n",
       "      <td>1.0</td>\n",
       "      <td>0.333333</td>\n",
       "      <td>NaN</td>\n",
       "      <td>0.333333</td>\n",
       "      <td>0.333333</td>\n",
       "      <td>0.333333</td>\n",
       "      <td>0.333333</td>\n",
       "      <td>0.333333</td>\n",
       "    </tr>\n",
       "    <tr>\n",
       "      <th>Springer</th>\n",
       "      <td>5.0</td>\n",
       "      <td>0.636111</td>\n",
       "      <td>0.075860</td>\n",
       "      <td>0.555556</td>\n",
       "      <td>0.571429</td>\n",
       "      <td>0.625000</td>\n",
       "      <td>0.714286</td>\n",
       "      <td>0.714286</td>\n",
       "    </tr>\n",
       "    <tr>\n",
       "      <th>UIC</th>\n",
       "      <td>1.0</td>\n",
       "      <td>0.500000</td>\n",
       "      <td>NaN</td>\n",
       "      <td>0.500000</td>\n",
       "      <td>0.500000</td>\n",
       "      <td>0.500000</td>\n",
       "      <td>0.500000</td>\n",
       "      <td>0.500000</td>\n",
       "    </tr>\n",
       "  </tbody>\n",
       "</table>\n",
       "</div>"
      ],
      "text/plain": [
       "                 count      mean       std       min       25%       50%       75%       max\n",
       "venue_publisher                                                                             \n",
       "AAAI               3.0  0.425926  0.250514  0.166667  0.305556  0.444444  0.555556  0.666667\n",
       "ACL                7.0  0.593537  0.245945  0.250000  0.428571  0.666667  0.690476  1.000000\n",
       "ACM                7.0  0.561224  0.228222  0.166667  0.444444  0.666667  0.714286  0.777778\n",
       "ArXiv             18.0  0.439153  0.289335  0.000000  0.166667  0.380952  0.702381  0.857143\n",
       "CEUR               0.0       NaN       NaN       NaN       NaN       NaN       NaN       NaN\n",
       "Elsevier           2.0  0.603175  0.246926  0.428571  0.515873  0.603175  0.690476  0.777778\n",
       "IEEE              10.0  0.373810  0.327817  0.000000  0.166667  0.226190  0.702381  0.857143\n",
       "ISCRAM             1.0  0.000000       NaN  0.000000  0.000000  0.000000  0.000000  0.000000\n",
       "JMIR               1.0  0.571429       NaN  0.571429  0.571429  0.571429  0.571429  0.571429\n",
       "PloS               0.0       NaN       NaN       NaN       NaN       NaN       NaN       NaN\n",
       "Sage               1.0  0.333333       NaN  0.333333  0.333333  0.333333  0.333333  0.333333\n",
       "Springer           5.0  0.636111  0.075860  0.555556  0.571429  0.625000  0.714286  0.714286\n",
       "UIC                1.0  0.500000       NaN  0.500000  0.500000  0.500000  0.500000  0.500000"
      ]
     },
     "execution_count": 46,
     "metadata": {},
     "output_type": "execute_result"
    }
   ],
   "source": [
    "df.query('corpus == \"ArXiv\"').groupby('venue_publisher')['annot_score_normalized'].describe()"
   ]
  },
  {
   "cell_type": "code",
   "execution_count": 47,
   "metadata": {},
   "outputs": [
    {
     "data": {
      "text/html": [
       "<div>\n",
       "<style scoped>\n",
       "    .dataframe tbody tr th:only-of-type {\n",
       "        vertical-align: middle;\n",
       "    }\n",
       "\n",
       "    .dataframe tbody tr th {\n",
       "        vertical-align: top;\n",
       "    }\n",
       "\n",
       "    .dataframe thead th {\n",
       "        text-align: right;\n",
       "    }\n",
       "</style>\n",
       "<table border=\"1\" class=\"dataframe\">\n",
       "  <thead>\n",
       "    <tr style=\"text-align: right;\">\n",
       "      <th></th>\n",
       "      <th>count</th>\n",
       "      <th>mean</th>\n",
       "      <th>std</th>\n",
       "      <th>min</th>\n",
       "      <th>25%</th>\n",
       "      <th>50%</th>\n",
       "      <th>75%</th>\n",
       "      <th>max</th>\n",
       "    </tr>\n",
       "    <tr>\n",
       "      <th>venue_type_consol</th>\n",
       "      <th></th>\n",
       "      <th></th>\n",
       "      <th></th>\n",
       "      <th></th>\n",
       "      <th></th>\n",
       "      <th></th>\n",
       "      <th></th>\n",
       "      <th></th>\n",
       "    </tr>\n",
       "  </thead>\n",
       "  <tbody>\n",
       "    <tr>\n",
       "      <th>Conference</th>\n",
       "      <td>12.0</td>\n",
       "      <td>0.261905</td>\n",
       "      <td>0.163072</td>\n",
       "      <td>0.000000</td>\n",
       "      <td>0.166667</td>\n",
       "      <td>0.309524</td>\n",
       "      <td>0.357143</td>\n",
       "      <td>0.500000</td>\n",
       "    </tr>\n",
       "    <tr>\n",
       "      <th>Journal</th>\n",
       "      <td>4.0</td>\n",
       "      <td>0.458333</td>\n",
       "      <td>0.193795</td>\n",
       "      <td>0.285714</td>\n",
       "      <td>0.321429</td>\n",
       "      <td>0.416667</td>\n",
       "      <td>0.553571</td>\n",
       "      <td>0.714286</td>\n",
       "    </tr>\n",
       "  </tbody>\n",
       "</table>\n",
       "</div>"
      ],
      "text/plain": [
       "                   count      mean       std       min       25%       50%       75%       max\n",
       "venue_type_consol                                                                             \n",
       "Conference          12.0  0.261905  0.163072  0.000000  0.166667  0.309524  0.357143  0.500000\n",
       "Journal              4.0  0.458333  0.193795  0.285714  0.321429  0.416667  0.553571  0.714286"
      ]
     },
     "execution_count": 47,
     "metadata": {},
     "output_type": "execute_result"
    }
   ],
   "source": [
    "df.query('corpus == \"Scopus\"').groupby('venue_type_consol')['annot_score_normalized'].describe()"
   ]
  },
  {
   "cell_type": "code",
   "execution_count": 48,
   "metadata": {},
   "outputs": [
    {
     "data": {
      "image/png": "[encoded data removed]",
      "text/plain": [
       "<Figure size 684x360 with 2 Axes>"
      ]
     },
     "metadata": {},
     "output_type": "display_data"
    }
   ],
   "source": [
    "sns.set(style=\"darkgrid\", font_scale=1.5, rc={'figure.figsize':(9.5,5.0)})\n",
    "\n",
    "fig, ax = plt.subplots(nrows=1, ncols=2, sharex=True)\n",
    "\n",
    "\n",
    "sns.boxplot(ax=ax[0], data=df.query('corpus == \"ArXiv\"'), x='annot_score_normalized',\n",
    "                 y='venue_publisher', color='w', order=pub_order_arxiv, medianprops={'color':'red'}, showmeans=True)\n",
    "\n",
    "ax[0].set_xlabel(\"Normalized info score\")\n",
    "ax[0].set_ylabel(\"Publisher\")\n",
    "\n",
    "for l in ax[0].get_children():\n",
    "    if type(l) == matplotlib.patches.PathPatch:\n",
    "        l.set_edgecolor('black')\n",
    "    if type(l) == matplotlib.lines.Line2D:\n",
    "        if l.get_color() != 'red':\n",
    "            l.set_color('black')\n",
    "            \n",
    "sns.boxplot(ax=ax[1], data=df.query('corpus == \"Scopus\"'), x='annot_score_normalized', y='venue_publisher',\n",
    "            color='w', order=pub_order_scopus, medianprops={'color':'red'}, showmeans=True)\n",
    "\n",
    "ax[1].set_xlabel(\"Normalized info score\")\n",
    "ax[1].set_ylabel(\"\")\n",
    "\n",
    "for l in ax[1].get_children():\n",
    "    if type(l) == matplotlib.patches.PathPatch:\n",
    "        l.set_edgecolor('black')\n",
    "    if type(l) == matplotlib.lines.Line2D:\n",
    "        if l.get_color() != 'red':\n",
    "            l.set_color('black')            \n",
    "\n",
    "        \n",
    "#ax[1].set_xlim(-0.05,1)\n",
    "\n",
    "plt.tight_layout()\n",
    "            \n",
    "ax[0].set_title(\"ArXiv corpus\")\n",
    "ax[1].set_title(\"Scopus corpus\")\n",
    "plt.savefig(\"figures/info_score_norm_publisher_arxiv.png\", bbox_inches=\"tight\")\n",
    "plt.savefig(\"figures/info_score_norm_publisher_arxiv_scopus.pdf\", bbox_inches=\"tight\")\n",
    "\n",
    "#plt.setp()"
   ]
  },
  {
   "cell_type": "code",
   "execution_count": 49,
   "metadata": {},
   "outputs": [
    {
     "data": {
      "image/png": "[encoded data removed]",
      "text/plain": [
       "<Figure size 324x194.4 with 1 Axes>"
      ]
     },
     "metadata": {},
     "output_type": "display_data"
    }
   ],
   "source": [
    "sns.set(style=\"darkgrid\", font_scale=1.5, rc={'figure.figsize':(4.5,2.7)})\n",
    "\n",
    "ax = sns.boxplot(data=df.query('corpus == \"Scopus\"'), x='annot_score_normalized', y='venue_publisher', color='w', order=pub_order_scopus)\n",
    "ax.set_xlabel(\"Normalized information score\")\n",
    "ax.set_ylabel(\"Publisher\")\n",
    "\n",
    "for l in ax.get_children():\n",
    "    if type(l) == matplotlib.patches.PathPatch:\n",
    "        l.set_edgecolor('black')\n",
    "    if type(l) == matplotlib.lines.Line2D:\n",
    "        l.set_color('black')\n",
    "        \n",
    "ax.set_xlim(-0.05,1)\n",
    "\n",
    "plt.title(\"Normalized information scores\\n for papers in Scopus corpus\")\n",
    "plt.savefig(\"figures/info_score_norm_publisher_scopus.png\", bbox_inches=\"tight\")"
   ]
  },
  {
   "cell_type": "markdown",
   "metadata": {},
   "source": [
    "## Keyword-based analyses"
   ]
  },
  {
   "cell_type": "code",
   "execution_count": 50,
   "metadata": {},
   "outputs": [],
   "source": [
    "df = pd.concat([df, df.keywords.str.get_dummies(sep='; ').add_prefix('kw: ')], axis=1)"
   ]
  },
  {
   "cell_type": "code",
   "execution_count": 51,
   "metadata": {},
   "outputs": [],
   "source": [
    "kw_cols = []\n",
    "for col in df.columns:\n",
    "    if 'kw:' in col:\n",
    "        kw_cols.append(col)"
   ]
  },
  {
   "cell_type": "code",
   "execution_count": 52,
   "metadata": {},
   "outputs": [],
   "source": [
    "kw_counts = df[kw_cols].sum().sort_values() "
   ]
  },
  {
   "cell_type": "code",
   "execution_count": 53,
   "metadata": {},
   "outputs": [
    {
     "data": {
      "text/plain": [
       "kw: activism                       1\n",
       "kw: information propagation        1\n",
       "kw: language identification        1\n",
       "kw: location detection             1\n",
       "kw: traffic                        1\n",
       "kw: marketing                      1\n",
       "kw: personality classification     1\n",
       "kw: ideology detection             1\n",
       "kw: personality detection          1\n",
       "kw: prediction markets             1\n",
       "kw: public safety                  1\n",
       "kw: religion                       1\n",
       "kw: search engine optimization     1\n",
       "kw: security vulnerabilities       1\n",
       "kw: sports                         1\n",
       "kw: phishing                       1\n",
       "kw: humor/irony-detection          1\n",
       "kw: location prediction            1\n",
       "kw: consumer prediction            1\n",
       "kw: criminal justice               1\n",
       "kw: gang prediction                1\n",
       "kw: figures of speech              1\n",
       "kw: event detection                1\n",
       "kw: entity recognition             1\n",
       "kw: cultural studies               2\n",
       "kw: personality prediction         2\n",
       "kw: employment prediction          2\n",
       "kw: protests                       2\n",
       "kw: linguistic tagging             2\n",
       "kw: humor/irony detection          3\n",
       "kw: sockpuppet detection           4\n",
       "kw: recommender systems            4\n",
       "kw: terrorism                      4\n",
       "kw: finance                        4\n",
       "kw: social computing               4\n",
       "kw: journalism                     5\n",
       "kw: demographic prediction         5\n",
       "kw: psychology                     5\n",
       "kw: crisis informatics             6\n",
       "kw: spam prediction                7\n",
       "kw: computer vision                8\n",
       "kw: bot prediction                 8\n",
       "kw: elections                      8\n",
       "kw: content moderation             8\n",
       "kw: human geography               10\n",
       "kw: epidemology                   10\n",
       "kw: hate speech                   11\n",
       "kw: stance detection              13\n",
       "kw: non-English                   14\n",
       "kw: information quality           15\n",
       "kw: public health                 17\n",
       "kw: cybersecurity                 17\n",
       "kw: social influence              20\n",
       "kw: political science             20\n",
       "kw: social networks               22\n",
       "kw: topic identification          30\n",
       "kw: sentiment analysis            31\n",
       "kw: public opinion                34\n",
       "kw: user profiling                45\n",
       "dtype: int64"
      ]
     },
     "execution_count": 53,
     "metadata": {},
     "output_type": "execute_result"
    }
   ],
   "source": [
    "kw_counts"
   ]
  },
  {
   "cell_type": "code",
   "execution_count": 54,
   "metadata": {},
   "outputs": [],
   "source": [
    "df = df.drop(kw_counts[kw_counts < 3].index, axis=1)"
   ]
  },
  {
   "cell_type": "code",
   "execution_count": 55,
   "metadata": {},
   "outputs": [],
   "source": [
    "kw_cols = []\n",
    "for col in df.columns:\n",
    "    if 'kw:' in col:\n",
    "        kw_cols.append(col)"
   ]
  },
  {
   "cell_type": "code",
   "execution_count": 56,
   "metadata": {
    "scrolled": true
   },
   "outputs": [],
   "source": [
    "df_list = []\n",
    "for col in kw_cols:\n",
    "    #print(col)\n",
    "    temp_df = pd.DataFrame(df[df[col]==1]['annot_score_normalized']).T\n",
    "    temp_df.index = [col]\n",
    "    df_list.append(temp_df)"
   ]
  },
  {
   "cell_type": "code",
   "execution_count": 57,
   "metadata": {},
   "outputs": [
    {
     "data": {
      "text/html": [
       "<div>\n",
       "<style scoped>\n",
       "    .dataframe tbody tr th:only-of-type {\n",
       "        vertical-align: middle;\n",
       "    }\n",
       "\n",
       "    .dataframe tbody tr th {\n",
       "        vertical-align: top;\n",
       "    }\n",
       "\n",
       "    .dataframe thead th {\n",
       "        text-align: right;\n",
       "    }\n",
       "</style>\n",
       "<table border=\"1\" class=\"dataframe\">\n",
       "  <thead>\n",
       "    <tr style=\"text-align: right;\">\n",
       "      <th></th>\n",
       "      <th>103</th>\n",
       "      <th>131</th>\n",
       "      <th>136</th>\n",
       "      <th>137</th>\n",
       "      <th>146</th>\n",
       "      <th>148</th>\n",
       "      <th>158</th>\n",
       "      <th>161</th>\n",
       "    </tr>\n",
       "  </thead>\n",
       "  <tbody>\n",
       "    <tr>\n",
       "      <th>kw: content moderation</th>\n",
       "      <td>0.166667</td>\n",
       "      <td>NaN</td>\n",
       "      <td>0.444444</td>\n",
       "      <td>0.666667</td>\n",
       "      <td>0.428571</td>\n",
       "      <td>0.714286</td>\n",
       "      <td>NaN</td>\n",
       "      <td>0.857143</td>\n",
       "    </tr>\n",
       "  </tbody>\n",
       "</table>\n",
       "</div>"
      ],
      "text/plain": [
       "                             103  131       136       137       146       148  158       161\n",
       "kw: content moderation  0.166667  NaN  0.444444  0.666667  0.428571  0.714286  NaN  0.857143"
      ]
     },
     "execution_count": 57,
     "metadata": {},
     "output_type": "execute_result"
    }
   ],
   "source": [
    "df_list[2]"
   ]
  },
  {
   "cell_type": "code",
   "execution_count": 58,
   "metadata": {},
   "outputs": [
    {
     "data": {
      "text/html": [
       "<div>\n",
       "<style scoped>\n",
       "    .dataframe tbody tr th:only-of-type {\n",
       "        vertical-align: middle;\n",
       "    }\n",
       "\n",
       "    .dataframe tbody tr th {\n",
       "        vertical-align: top;\n",
       "    }\n",
       "\n",
       "    .dataframe thead th {\n",
       "        text-align: right;\n",
       "    }\n",
       "</style>\n",
       "<table border=\"1\" class=\"dataframe\">\n",
       "  <thead>\n",
       "    <tr style=\"text-align: right;\">\n",
       "      <th></th>\n",
       "      <th>2</th>\n",
       "      <th>24</th>\n",
       "      <th>88</th>\n",
       "      <th>129</th>\n",
       "    </tr>\n",
       "  </thead>\n",
       "  <tbody>\n",
       "    <tr>\n",
       "      <th>kw: finance</th>\n",
       "      <td>NaN</td>\n",
       "      <td>NaN</td>\n",
       "      <td>0.0</td>\n",
       "      <td>NaN</td>\n",
       "    </tr>\n",
       "  </tbody>\n",
       "</table>\n",
       "</div>"
      ],
      "text/plain": [
       "             2    24   88   129\n",
       "kw: finance  NaN  NaN  0.0  NaN"
      ]
     },
     "execution_count": 58,
     "metadata": {},
     "output_type": "execute_result"
    }
   ],
   "source": [
    "df_list[8]"
   ]
  },
  {
   "cell_type": "code",
   "execution_count": 59,
   "metadata": {},
   "outputs": [
    {
     "data": {
      "text/html": [
       "<div>\n",
       "<style scoped>\n",
       "    .dataframe tbody tr th:only-of-type {\n",
       "        vertical-align: middle;\n",
       "    }\n",
       "\n",
       "    .dataframe tbody tr th {\n",
       "        vertical-align: top;\n",
       "    }\n",
       "\n",
       "    .dataframe thead th {\n",
       "        text-align: right;\n",
       "    }\n",
       "</style>\n",
       "<table border=\"1\" class=\"dataframe\">\n",
       "  <thead>\n",
       "    <tr style=\"text-align: right;\">\n",
       "      <th></th>\n",
       "      <th>0</th>\n",
       "      <th>1</th>\n",
       "      <th>2</th>\n",
       "      <th>3</th>\n",
       "      <th>4</th>\n",
       "      <th>5</th>\n",
       "      <th>6</th>\n",
       "      <th>7</th>\n",
       "      <th>8</th>\n",
       "      <th>9</th>\n",
       "      <th>10</th>\n",
       "      <th>11</th>\n",
       "      <th>12</th>\n",
       "      <th>13</th>\n",
       "      <th>14</th>\n",
       "      <th>15</th>\n",
       "      <th>16</th>\n",
       "      <th>17</th>\n",
       "      <th>18</th>\n",
       "      <th>19</th>\n",
       "      <th>20</th>\n",
       "      <th>21</th>\n",
       "      <th>22</th>\n",
       "      <th>23</th>\n",
       "      <th>24</th>\n",
       "      <th>25</th>\n",
       "      <th>26</th>\n",
       "      <th>28</th>\n",
       "      <th>29</th>\n",
       "      <th>30</th>\n",
       "      <th>31</th>\n",
       "      <th>32</th>\n",
       "      <th>33</th>\n",
       "      <th>34</th>\n",
       "      <th>35</th>\n",
       "      <th>36</th>\n",
       "      <th>37</th>\n",
       "      <th>38</th>\n",
       "      <th>39</th>\n",
       "      <th>40</th>\n",
       "      <th>41</th>\n",
       "      <th>43</th>\n",
       "      <th>44</th>\n",
       "      <th>46</th>\n",
       "      <th>47</th>\n",
       "      <th>48</th>\n",
       "      <th>49</th>\n",
       "      <th>50</th>\n",
       "      <th>51</th>\n",
       "      <th>52</th>\n",
       "      <th>53</th>\n",
       "      <th>54</th>\n",
       "      <th>55</th>\n",
       "      <th>56</th>\n",
       "      <th>57</th>\n",
       "      <th>58</th>\n",
       "      <th>59</th>\n",
       "      <th>60</th>\n",
       "      <th>61</th>\n",
       "      <th>62</th>\n",
       "      <th>63</th>\n",
       "      <th>64</th>\n",
       "      <th>65</th>\n",
       "      <th>66</th>\n",
       "      <th>67</th>\n",
       "      <th>68</th>\n",
       "      <th>69</th>\n",
       "      <th>70</th>\n",
       "      <th>71</th>\n",
       "      <th>72</th>\n",
       "      <th>73</th>\n",
       "      <th>74</th>\n",
       "      <th>75</th>\n",
       "      <th>76</th>\n",
       "      <th>77</th>\n",
       "      <th>78</th>\n",
       "      <th>79</th>\n",
       "      <th>81</th>\n",
       "      <th>82</th>\n",
       "      <th>83</th>\n",
       "      <th>84</th>\n",
       "      <th>85</th>\n",
       "      <th>86</th>\n",
       "      <th>87</th>\n",
       "      <th>88</th>\n",
       "      <th>89</th>\n",
       "      <th>90</th>\n",
       "      <th>91</th>\n",
       "      <th>92</th>\n",
       "      <th>93</th>\n",
       "      <th>94</th>\n",
       "      <th>95</th>\n",
       "      <th>96</th>\n",
       "      <th>97</th>\n",
       "      <th>98</th>\n",
       "      <th>99</th>\n",
       "      <th>100</th>\n",
       "      <th>101</th>\n",
       "      <th>102</th>\n",
       "      <th>103</th>\n",
       "      <th>104</th>\n",
       "      <th>105</th>\n",
       "      <th>106</th>\n",
       "      <th>107</th>\n",
       "      <th>108</th>\n",
       "      <th>109</th>\n",
       "      <th>110</th>\n",
       "      <th>111</th>\n",
       "      <th>112</th>\n",
       "      <th>113</th>\n",
       "      <th>114</th>\n",
       "      <th>115</th>\n",
       "      <th>116</th>\n",
       "      <th>117</th>\n",
       "      <th>118</th>\n",
       "      <th>119</th>\n",
       "      <th>120</th>\n",
       "      <th>121</th>\n",
       "      <th>122</th>\n",
       "      <th>123</th>\n",
       "      <th>124</th>\n",
       "      <th>125</th>\n",
       "      <th>126</th>\n",
       "      <th>127</th>\n",
       "      <th>128</th>\n",
       "      <th>129</th>\n",
       "      <th>130</th>\n",
       "      <th>131</th>\n",
       "      <th>132</th>\n",
       "      <th>133</th>\n",
       "      <th>134</th>\n",
       "      <th>135</th>\n",
       "      <th>136</th>\n",
       "      <th>137</th>\n",
       "      <th>138</th>\n",
       "      <th>139</th>\n",
       "      <th>140</th>\n",
       "      <th>141</th>\n",
       "      <th>142</th>\n",
       "      <th>143</th>\n",
       "      <th>144</th>\n",
       "      <th>145</th>\n",
       "      <th>146</th>\n",
       "      <th>147</th>\n",
       "      <th>148</th>\n",
       "      <th>149</th>\n",
       "      <th>150</th>\n",
       "      <th>151</th>\n",
       "      <th>152</th>\n",
       "      <th>153</th>\n",
       "      <th>154</th>\n",
       "      <th>155</th>\n",
       "      <th>156</th>\n",
       "      <th>157</th>\n",
       "      <th>158</th>\n",
       "      <th>159</th>\n",
       "      <th>160</th>\n",
       "      <th>161</th>\n",
       "      <th>162</th>\n",
       "      <th>163</th>\n",
       "    </tr>\n",
       "  </thead>\n",
       "  <tbody>\n",
       "    <tr>\n",
       "      <th>kw: demographic prediction</th>\n",
       "      <td>NaN</td>\n",
       "      <td>NaN</td>\n",
       "      <td>NaN</td>\n",
       "      <td>NaN</td>\n",
       "      <td>NaN</td>\n",
       "      <td>NaN</td>\n",
       "      <td>NaN</td>\n",
       "      <td>NaN</td>\n",
       "      <td>NaN</td>\n",
       "      <td>NaN</td>\n",
       "      <td>NaN</td>\n",
       "      <td>NaN</td>\n",
       "      <td>NaN</td>\n",
       "      <td>NaN</td>\n",
       "      <td>NaN</td>\n",
       "      <td>NaN</td>\n",
       "      <td>NaN</td>\n",
       "      <td>NaN</td>\n",
       "      <td>NaN</td>\n",
       "      <td>NaN</td>\n",
       "      <td>NaN</td>\n",
       "      <td>NaN</td>\n",
       "      <td>NaN</td>\n",
       "      <td>NaN</td>\n",
       "      <td>NaN</td>\n",
       "      <td>NaN</td>\n",
       "      <td>NaN</td>\n",
       "      <td>NaN</td>\n",
       "      <td>NaN</td>\n",
       "      <td>NaN</td>\n",
       "      <td>NaN</td>\n",
       "      <td>NaN</td>\n",
       "      <td>NaN</td>\n",
       "      <td>NaN</td>\n",
       "      <td>NaN</td>\n",
       "      <td>NaN</td>\n",
       "      <td>NaN</td>\n",
       "      <td>NaN</td>\n",
       "      <td>NaN</td>\n",
       "      <td>NaN</td>\n",
       "      <td>NaN</td>\n",
       "      <td>NaN</td>\n",
       "      <td>NaN</td>\n",
       "      <td>NaN</td>\n",
       "      <td>NaN</td>\n",
       "      <td>NaN</td>\n",
       "      <td>NaN</td>\n",
       "      <td>NaN</td>\n",
       "      <td>NaN</td>\n",
       "      <td>NaN</td>\n",
       "      <td>NaN</td>\n",
       "      <td>NaN</td>\n",
       "      <td>NaN</td>\n",
       "      <td>NaN</td>\n",
       "      <td>NaN</td>\n",
       "      <td>NaN</td>\n",
       "      <td>NaN</td>\n",
       "      <td>NaN</td>\n",
       "      <td>NaN</td>\n",
       "      <td>NaN</td>\n",
       "      <td>NaN</td>\n",
       "      <td>NaN</td>\n",
       "      <td>NaN</td>\n",
       "      <td>NaN</td>\n",
       "      <td>NaN</td>\n",
       "      <td>NaN</td>\n",
       "      <td>NaN</td>\n",
       "      <td>NaN</td>\n",
       "      <td>NaN</td>\n",
       "      <td>NaN</td>\n",
       "      <td>NaN</td>\n",
       "      <td>NaN</td>\n",
       "      <td>NaN</td>\n",
       "      <td>NaN</td>\n",
       "      <td>NaN</td>\n",
       "      <td>NaN</td>\n",
       "      <td>NaN</td>\n",
       "      <td>NaN</td>\n",
       "      <td>NaN</td>\n",
       "      <td>NaN</td>\n",
       "      <td>NaN</td>\n",
       "      <td>NaN</td>\n",
       "      <td>NaN</td>\n",
       "      <td>NaN</td>\n",
       "      <td>NaN</td>\n",
       "      <td>NaN</td>\n",
       "      <td>NaN</td>\n",
       "      <td>NaN</td>\n",
       "      <td>NaN</td>\n",
       "      <td>NaN</td>\n",
       "      <td>NaN</td>\n",
       "      <td>NaN</td>\n",
       "      <td>NaN</td>\n",
       "      <td>NaN</td>\n",
       "      <td>NaN</td>\n",
       "      <td>NaN</td>\n",
       "      <td>NaN</td>\n",
       "      <td>NaN</td>\n",
       "      <td>NaN</td>\n",
       "      <td>NaN</td>\n",
       "      <td>NaN</td>\n",
       "      <td>NaN</td>\n",
       "      <td>NaN</td>\n",
       "      <td>NaN</td>\n",
       "      <td>NaN</td>\n",
       "      <td>NaN</td>\n",
       "      <td>NaN</td>\n",
       "      <td>NaN</td>\n",
       "      <td>NaN</td>\n",
       "      <td>NaN</td>\n",
       "      <td>NaN</td>\n",
       "      <td>NaN</td>\n",
       "      <td>NaN</td>\n",
       "      <td>NaN</td>\n",
       "      <td>0.555556</td>\n",
       "      <td>NaN</td>\n",
       "      <td>NaN</td>\n",
       "      <td>NaN</td>\n",
       "      <td>NaN</td>\n",
       "      <td>NaN</td>\n",
       "      <td>NaN</td>\n",
       "      <td>NaN</td>\n",
       "      <td>NaN</td>\n",
       "      <td>NaN</td>\n",
       "      <td>NaN</td>\n",
       "      <td>NaN</td>\n",
       "      <td>NaN</td>\n",
       "      <td>NaN</td>\n",
       "      <td>NaN</td>\n",
       "      <td>NaN</td>\n",
       "      <td>NaN</td>\n",
       "      <td>NaN</td>\n",
       "      <td>NaN</td>\n",
       "      <td>NaN</td>\n",
       "      <td>NaN</td>\n",
       "      <td>NaN</td>\n",
       "      <td>NaN</td>\n",
       "      <td>NaN</td>\n",
       "      <td>NaN</td>\n",
       "      <td>NaN</td>\n",
       "      <td>NaN</td>\n",
       "      <td>NaN</td>\n",
       "      <td>NaN</td>\n",
       "      <td>NaN</td>\n",
       "      <td>NaN</td>\n",
       "      <td>NaN</td>\n",
       "      <td>NaN</td>\n",
       "      <td>NaN</td>\n",
       "      <td>NaN</td>\n",
       "      <td>NaN</td>\n",
       "      <td>NaN</td>\n",
       "      <td>NaN</td>\n",
       "      <td>NaN</td>\n",
       "      <td>NaN</td>\n",
       "      <td>NaN</td>\n",
       "      <td>NaN</td>\n",
       "      <td>NaN</td>\n",
       "      <td>NaN</td>\n",
       "      <td>NaN</td>\n",
       "      <td>NaN</td>\n",
       "    </tr>\n",
       "    <tr>\n",
       "      <th>kw: elections</th>\n",
       "      <td>NaN</td>\n",
       "      <td>0.428571</td>\n",
       "      <td>NaN</td>\n",
       "      <td>NaN</td>\n",
       "      <td>NaN</td>\n",
       "      <td>NaN</td>\n",
       "      <td>NaN</td>\n",
       "      <td>NaN</td>\n",
       "      <td>NaN</td>\n",
       "      <td>NaN</td>\n",
       "      <td>NaN</td>\n",
       "      <td>NaN</td>\n",
       "      <td>NaN</td>\n",
       "      <td>NaN</td>\n",
       "      <td>NaN</td>\n",
       "      <td>NaN</td>\n",
       "      <td>NaN</td>\n",
       "      <td>NaN</td>\n",
       "      <td>NaN</td>\n",
       "      <td>NaN</td>\n",
       "      <td>NaN</td>\n",
       "      <td>NaN</td>\n",
       "      <td>NaN</td>\n",
       "      <td>0.5</td>\n",
       "      <td>NaN</td>\n",
       "      <td>NaN</td>\n",
       "      <td>NaN</td>\n",
       "      <td>NaN</td>\n",
       "      <td>NaN</td>\n",
       "      <td>NaN</td>\n",
       "      <td>NaN</td>\n",
       "      <td>NaN</td>\n",
       "      <td>NaN</td>\n",
       "      <td>NaN</td>\n",
       "      <td>NaN</td>\n",
       "      <td>NaN</td>\n",
       "      <td>NaN</td>\n",
       "      <td>NaN</td>\n",
       "      <td>NaN</td>\n",
       "      <td>NaN</td>\n",
       "      <td>NaN</td>\n",
       "      <td>NaN</td>\n",
       "      <td>NaN</td>\n",
       "      <td>NaN</td>\n",
       "      <td>NaN</td>\n",
       "      <td>NaN</td>\n",
       "      <td>NaN</td>\n",
       "      <td>NaN</td>\n",
       "      <td>NaN</td>\n",
       "      <td>NaN</td>\n",
       "      <td>NaN</td>\n",
       "      <td>NaN</td>\n",
       "      <td>NaN</td>\n",
       "      <td>NaN</td>\n",
       "      <td>NaN</td>\n",
       "      <td>NaN</td>\n",
       "      <td>NaN</td>\n",
       "      <td>NaN</td>\n",
       "      <td>NaN</td>\n",
       "      <td>NaN</td>\n",
       "      <td>NaN</td>\n",
       "      <td>NaN</td>\n",
       "      <td>NaN</td>\n",
       "      <td>NaN</td>\n",
       "      <td>NaN</td>\n",
       "      <td>NaN</td>\n",
       "      <td>NaN</td>\n",
       "      <td>NaN</td>\n",
       "      <td>NaN</td>\n",
       "      <td>NaN</td>\n",
       "      <td>NaN</td>\n",
       "      <td>0.571429</td>\n",
       "      <td>NaN</td>\n",
       "      <td>NaN</td>\n",
       "      <td>NaN</td>\n",
       "      <td>NaN</td>\n",
       "      <td>NaN</td>\n",
       "      <td>NaN</td>\n",
       "      <td>NaN</td>\n",
       "      <td>NaN</td>\n",
       "      <td>NaN</td>\n",
       "      <td>NaN</td>\n",
       "      <td>NaN</td>\n",
       "      <td>NaN</td>\n",
       "      <td>NaN</td>\n",
       "      <td>NaN</td>\n",
       "      <td>NaN</td>\n",
       "      <td>NaN</td>\n",
       "      <td>NaN</td>\n",
       "      <td>NaN</td>\n",
       "      <td>NaN</td>\n",
       "      <td>NaN</td>\n",
       "      <td>NaN</td>\n",
       "      <td>NaN</td>\n",
       "      <td>NaN</td>\n",
       "      <td>NaN</td>\n",
       "      <td>NaN</td>\n",
       "      <td>NaN</td>\n",
       "      <td>NaN</td>\n",
       "      <td>NaN</td>\n",
       "      <td>NaN</td>\n",
       "      <td>NaN</td>\n",
       "      <td>NaN</td>\n",
       "      <td>NaN</td>\n",
       "      <td>NaN</td>\n",
       "      <td>NaN</td>\n",
       "      <td>NaN</td>\n",
       "      <td>NaN</td>\n",
       "      <td>NaN</td>\n",
       "      <td>NaN</td>\n",
       "      <td>NaN</td>\n",
       "      <td>NaN</td>\n",
       "      <td>NaN</td>\n",
       "      <td>NaN</td>\n",
       "      <td>NaN</td>\n",
       "      <td>NaN</td>\n",
       "      <td>0.714286</td>\n",
       "      <td>NaN</td>\n",
       "      <td>NaN</td>\n",
       "      <td>NaN</td>\n",
       "      <td>NaN</td>\n",
       "      <td>NaN</td>\n",
       "      <td>NaN</td>\n",
       "      <td>NaN</td>\n",
       "      <td>NaN</td>\n",
       "      <td>NaN</td>\n",
       "      <td>NaN</td>\n",
       "      <td>NaN</td>\n",
       "      <td>NaN</td>\n",
       "      <td>NaN</td>\n",
       "      <td>NaN</td>\n",
       "      <td>NaN</td>\n",
       "      <td>NaN</td>\n",
       "      <td>NaN</td>\n",
       "      <td>NaN</td>\n",
       "      <td>NaN</td>\n",
       "      <td>NaN</td>\n",
       "      <td>NaN</td>\n",
       "      <td>NaN</td>\n",
       "      <td>NaN</td>\n",
       "      <td>NaN</td>\n",
       "      <td>NaN</td>\n",
       "      <td>NaN</td>\n",
       "      <td>NaN</td>\n",
       "      <td>NaN</td>\n",
       "      <td>NaN</td>\n",
       "      <td>NaN</td>\n",
       "      <td>NaN</td>\n",
       "      <td>NaN</td>\n",
       "      <td>NaN</td>\n",
       "      <td>0.714286</td>\n",
       "      <td>NaN</td>\n",
       "      <td>NaN</td>\n",
       "      <td>0.166667</td>\n",
       "      <td>NaN</td>\n",
       "      <td>NaN</td>\n",
       "      <td>NaN</td>\n",
       "      <td>NaN</td>\n",
       "      <td>NaN</td>\n",
       "      <td>NaN</td>\n",
       "    </tr>\n",
       "    <tr>\n",
       "      <th>kw: epidemology</th>\n",
       "      <td>NaN</td>\n",
       "      <td>NaN</td>\n",
       "      <td>NaN</td>\n",
       "      <td>NaN</td>\n",
       "      <td>NaN</td>\n",
       "      <td>NaN</td>\n",
       "      <td>NaN</td>\n",
       "      <td>NaN</td>\n",
       "      <td>NaN</td>\n",
       "      <td>NaN</td>\n",
       "      <td>NaN</td>\n",
       "      <td>NaN</td>\n",
       "      <td>NaN</td>\n",
       "      <td>NaN</td>\n",
       "      <td>NaN</td>\n",
       "      <td>NaN</td>\n",
       "      <td>NaN</td>\n",
       "      <td>NaN</td>\n",
       "      <td>NaN</td>\n",
       "      <td>NaN</td>\n",
       "      <td>NaN</td>\n",
       "      <td>NaN</td>\n",
       "      <td>NaN</td>\n",
       "      <td>NaN</td>\n",
       "      <td>NaN</td>\n",
       "      <td>NaN</td>\n",
       "      <td>NaN</td>\n",
       "      <td>NaN</td>\n",
       "      <td>0.166667</td>\n",
       "      <td>NaN</td>\n",
       "      <td>NaN</td>\n",
       "      <td>NaN</td>\n",
       "      <td>NaN</td>\n",
       "      <td>NaN</td>\n",
       "      <td>NaN</td>\n",
       "      <td>NaN</td>\n",
       "      <td>NaN</td>\n",
       "      <td>NaN</td>\n",
       "      <td>NaN</td>\n",
       "      <td>NaN</td>\n",
       "      <td>NaN</td>\n",
       "      <td>NaN</td>\n",
       "      <td>NaN</td>\n",
       "      <td>NaN</td>\n",
       "      <td>NaN</td>\n",
       "      <td>NaN</td>\n",
       "      <td>NaN</td>\n",
       "      <td>NaN</td>\n",
       "      <td>NaN</td>\n",
       "      <td>NaN</td>\n",
       "      <td>NaN</td>\n",
       "      <td>NaN</td>\n",
       "      <td>0.333333</td>\n",
       "      <td>0.333333</td>\n",
       "      <td>NaN</td>\n",
       "      <td>NaN</td>\n",
       "      <td>NaN</td>\n",
       "      <td>NaN</td>\n",
       "      <td>NaN</td>\n",
       "      <td>NaN</td>\n",
       "      <td>NaN</td>\n",
       "      <td>NaN</td>\n",
       "      <td>NaN</td>\n",
       "      <td>NaN</td>\n",
       "      <td>NaN</td>\n",
       "      <td>NaN</td>\n",
       "      <td>NaN</td>\n",
       "      <td>NaN</td>\n",
       "      <td>NaN</td>\n",
       "      <td>NaN</td>\n",
       "      <td>NaN</td>\n",
       "      <td>NaN</td>\n",
       "      <td>NaN</td>\n",
       "      <td>NaN</td>\n",
       "      <td>NaN</td>\n",
       "      <td>NaN</td>\n",
       "      <td>0.625</td>\n",
       "      <td>NaN</td>\n",
       "      <td>NaN</td>\n",
       "      <td>NaN</td>\n",
       "      <td>NaN</td>\n",
       "      <td>NaN</td>\n",
       "      <td>NaN</td>\n",
       "      <td>NaN</td>\n",
       "      <td>NaN</td>\n",
       "      <td>NaN</td>\n",
       "      <td>NaN</td>\n",
       "      <td>NaN</td>\n",
       "      <td>NaN</td>\n",
       "      <td>NaN</td>\n",
       "      <td>NaN</td>\n",
       "      <td>NaN</td>\n",
       "      <td>0.571429</td>\n",
       "      <td>NaN</td>\n",
       "      <td>NaN</td>\n",
       "      <td>NaN</td>\n",
       "      <td>NaN</td>\n",
       "      <td>NaN</td>\n",
       "      <td>NaN</td>\n",
       "      <td>NaN</td>\n",
       "      <td>NaN</td>\n",
       "      <td>NaN</td>\n",
       "      <td>NaN</td>\n",
       "      <td>NaN</td>\n",
       "      <td>NaN</td>\n",
       "      <td>NaN</td>\n",
       "      <td>0.666667</td>\n",
       "      <td>NaN</td>\n",
       "      <td>NaN</td>\n",
       "      <td>NaN</td>\n",
       "      <td>NaN</td>\n",
       "      <td>NaN</td>\n",
       "      <td>NaN</td>\n",
       "      <td>NaN</td>\n",
       "      <td>NaN</td>\n",
       "      <td>NaN</td>\n",
       "      <td>NaN</td>\n",
       "      <td>NaN</td>\n",
       "      <td>NaN</td>\n",
       "      <td>NaN</td>\n",
       "      <td>NaN</td>\n",
       "      <td>NaN</td>\n",
       "      <td>NaN</td>\n",
       "      <td>NaN</td>\n",
       "      <td>NaN</td>\n",
       "      <td>NaN</td>\n",
       "      <td>NaN</td>\n",
       "      <td>NaN</td>\n",
       "      <td>NaN</td>\n",
       "      <td>NaN</td>\n",
       "      <td>NaN</td>\n",
       "      <td>NaN</td>\n",
       "      <td>NaN</td>\n",
       "      <td>NaN</td>\n",
       "      <td>NaN</td>\n",
       "      <td>NaN</td>\n",
       "      <td>NaN</td>\n",
       "      <td>NaN</td>\n",
       "      <td>NaN</td>\n",
       "      <td>NaN</td>\n",
       "      <td>NaN</td>\n",
       "      <td>NaN</td>\n",
       "      <td>NaN</td>\n",
       "      <td>NaN</td>\n",
       "      <td>NaN</td>\n",
       "      <td>NaN</td>\n",
       "      <td>NaN</td>\n",
       "      <td>NaN</td>\n",
       "      <td>NaN</td>\n",
       "      <td>NaN</td>\n",
       "      <td>NaN</td>\n",
       "      <td>NaN</td>\n",
       "      <td>NaN</td>\n",
       "      <td>NaN</td>\n",
       "      <td>NaN</td>\n",
       "      <td>NaN</td>\n",
       "      <td>NaN</td>\n",
       "      <td>NaN</td>\n",
       "      <td>NaN</td>\n",
       "      <td>NaN</td>\n",
       "    </tr>\n",
       "  </tbody>\n",
       "</table>\n",
       "</div>"
      ],
      "text/plain": [
       "                            0         1    2    3    4    5    6    7    8    9    10   11   12   13   14   15   16   17   18   19   20   21   22   23   24   25   26   28        29   30   31   32   33   34   35   36   37   38   39   40   41   43   44   46   47   48   49   50   51   52   53   54        55        56   57   58   59   60   61   62   63   64   65   66   67   68   69   70   71   72   73        74   75   76   77   78     79   81   82   83   84   85   86   87   88   89   90   91   92   93   94   95        96   97   98   99   100  101  102  103  104  105  106  107  108  109       110  111  112  113  114  115  116  117       118  119       120  121  122  123  124  125  126  127  128  129  130  131  132  133  134  135  136  137  138  139  140  141  142  143  144  145  146  147  148  149  150  151  152  153       154  155  156       157  158  159  160  161  162  163\n",
       "kw: demographic prediction  NaN       NaN  NaN  NaN  NaN  NaN  NaN  NaN  NaN  NaN  NaN  NaN  NaN  NaN  NaN  NaN  NaN  NaN  NaN  NaN  NaN  NaN  NaN  NaN  NaN  NaN  NaN  NaN       NaN  NaN  NaN  NaN  NaN  NaN  NaN  NaN  NaN  NaN  NaN  NaN  NaN  NaN  NaN  NaN  NaN  NaN  NaN  NaN  NaN  NaN  NaN  NaN       NaN       NaN  NaN  NaN  NaN  NaN  NaN  NaN  NaN  NaN  NaN  NaN  NaN  NaN  NaN  NaN  NaN  NaN  NaN       NaN  NaN  NaN  NaN  NaN    NaN  NaN  NaN  NaN  NaN  NaN  NaN  NaN  NaN  NaN  NaN  NaN  NaN  NaN  NaN  NaN       NaN  NaN  NaN  NaN  NaN  NaN  NaN  NaN  NaN  NaN  NaN  NaN  NaN  NaN       NaN  NaN  NaN  NaN  NaN  NaN  NaN  NaN  0.555556  NaN       NaN  NaN  NaN  NaN  NaN  NaN  NaN  NaN  NaN  NaN  NaN  NaN  NaN  NaN  NaN  NaN  NaN  NaN  NaN  NaN  NaN  NaN  NaN  NaN  NaN  NaN  NaN  NaN  NaN  NaN  NaN  NaN  NaN  NaN       NaN  NaN  NaN       NaN  NaN  NaN  NaN  NaN  NaN  NaN\n",
       "kw: elections               NaN  0.428571  NaN  NaN  NaN  NaN  NaN  NaN  NaN  NaN  NaN  NaN  NaN  NaN  NaN  NaN  NaN  NaN  NaN  NaN  NaN  NaN  NaN  0.5  NaN  NaN  NaN  NaN       NaN  NaN  NaN  NaN  NaN  NaN  NaN  NaN  NaN  NaN  NaN  NaN  NaN  NaN  NaN  NaN  NaN  NaN  NaN  NaN  NaN  NaN  NaN  NaN       NaN       NaN  NaN  NaN  NaN  NaN  NaN  NaN  NaN  NaN  NaN  NaN  NaN  NaN  NaN  NaN  NaN  NaN  NaN  0.571429  NaN  NaN  NaN  NaN    NaN  NaN  NaN  NaN  NaN  NaN  NaN  NaN  NaN  NaN  NaN  NaN  NaN  NaN  NaN  NaN       NaN  NaN  NaN  NaN  NaN  NaN  NaN  NaN  NaN  NaN  NaN  NaN  NaN  NaN       NaN  NaN  NaN  NaN  NaN  NaN  NaN  NaN       NaN  NaN  0.714286  NaN  NaN  NaN  NaN  NaN  NaN  NaN  NaN  NaN  NaN  NaN  NaN  NaN  NaN  NaN  NaN  NaN  NaN  NaN  NaN  NaN  NaN  NaN  NaN  NaN  NaN  NaN  NaN  NaN  NaN  NaN  NaN  NaN  0.714286  NaN  NaN  0.166667  NaN  NaN  NaN  NaN  NaN  NaN\n",
       "kw: epidemology             NaN       NaN  NaN  NaN  NaN  NaN  NaN  NaN  NaN  NaN  NaN  NaN  NaN  NaN  NaN  NaN  NaN  NaN  NaN  NaN  NaN  NaN  NaN  NaN  NaN  NaN  NaN  NaN  0.166667  NaN  NaN  NaN  NaN  NaN  NaN  NaN  NaN  NaN  NaN  NaN  NaN  NaN  NaN  NaN  NaN  NaN  NaN  NaN  NaN  NaN  NaN  NaN  0.333333  0.333333  NaN  NaN  NaN  NaN  NaN  NaN  NaN  NaN  NaN  NaN  NaN  NaN  NaN  NaN  NaN  NaN  NaN       NaN  NaN  NaN  NaN  NaN  0.625  NaN  NaN  NaN  NaN  NaN  NaN  NaN  NaN  NaN  NaN  NaN  NaN  NaN  NaN  NaN  0.571429  NaN  NaN  NaN  NaN  NaN  NaN  NaN  NaN  NaN  NaN  NaN  NaN  NaN  0.666667  NaN  NaN  NaN  NaN  NaN  NaN  NaN       NaN  NaN       NaN  NaN  NaN  NaN  NaN  NaN  NaN  NaN  NaN  NaN  NaN  NaN  NaN  NaN  NaN  NaN  NaN  NaN  NaN  NaN  NaN  NaN  NaN  NaN  NaN  NaN  NaN  NaN  NaN  NaN  NaN  NaN  NaN  NaN       NaN  NaN  NaN       NaN  NaN  NaN  NaN  NaN  NaN  NaN"
      ]
     },
     "execution_count": 59,
     "metadata": {},
     "output_type": "execute_result"
    }
   ],
   "source": [
    "df_quality_norm_kw = pd.concat(df_list)\n",
    "df_quality_norm_kw[5:8]"
   ]
  },
  {
   "cell_type": "code",
   "execution_count": 60,
   "metadata": {},
   "outputs": [
    {
     "data": {
      "text/plain": [
       "kw: humor/irony detection      0\n",
       "kw: recommender systems        0\n",
       "kw: social computing           0\n",
       "kw: demographic prediction     1\n",
       "kw: finance                    1\n",
       "kw: journalism                 2\n",
       "kw: sockpuppet detection       3\n",
       "kw: spam prediction            3\n",
       "kw: psychology                 3\n",
       "kw: terrorism                  3\n",
       "kw: computer vision            4\n",
       "kw: bot prediction             5\n",
       "kw: crisis informatics         5\n",
       "kw: epidemology                6\n",
       "kw: stance detection           6\n",
       "kw: elections                  6\n",
       "kw: content moderation         6\n",
       "kw: human geography            6\n",
       "kw: social influence           6\n",
       "kw: social networks            7\n",
       "kw: hate speech                8\n",
       "kw: cybersecurity              8\n",
       "kw: information quality        9\n",
       "kw: non-English               10\n",
       "kw: public health             11\n",
       "kw: political science         13\n",
       "kw: sentiment analysis        13\n",
       "kw: topic identification      15\n",
       "kw: public opinion            19\n",
       "kw: user profiling            21\n",
       "dtype: int64"
      ]
     },
     "execution_count": 60,
     "metadata": {},
     "output_type": "execute_result"
    }
   ],
   "source": [
    "df_quality_norm_kw.count(axis=1).sort_values()"
   ]
  },
  {
   "cell_type": "code",
   "execution_count": 61,
   "metadata": {},
   "outputs": [
    {
     "name": "stderr",
     "output_type": "stream",
     "text": [
      "/opt/jupyterhub/anaconda3/lib/python3.7/site-packages/ipykernel_launcher.py:1: FutureWarning: Sorting because non-concatenation axis is not aligned. A future version\n",
      "of pandas will change to not sort by default.\n",
      "\n",
      "To accept the future behavior, pass 'sort=False'.\n",
      "\n",
      "To retain the current behavior and silence the warning, pass 'sort=True'.\n",
      "\n",
      "  \"\"\"Entry point for launching an IPython kernel.\n"
     ]
    }
   ],
   "source": [
    "kw_paper_counts = pd.concat([kw_counts,df_quality_norm_kw.count(axis=1).sort_values()], axis=1)\n",
    "kw_paper_counts.columns=['all papers in corpus', 'papers using original human annotation']\n",
    "kw_paper_counts = kw_paper_counts.sort_values('all papers in corpus', ascending=False)[0:29]"
   ]
  },
  {
   "cell_type": "code",
   "execution_count": 62,
   "metadata": {},
   "outputs": [],
   "source": [
    "kw_paper_counts['papers not using original human annotation'] = kw_paper_counts['all papers in corpus'] - kw_paper_counts['papers using original human annotation']"
   ]
  },
  {
   "cell_type": "code",
   "execution_count": 63,
   "metadata": {},
   "outputs": [],
   "source": [
    "kw_pc_idx = kw_paper_counts.index\n",
    "new_kw_pc_idx = []\n",
    "for kw in kw_pc_idx:\n",
    "    new_kw_pc_idx.append(kw[4:])\n",
    "kw_paper_counts.index = new_kw_pc_idx"
   ]
  },
  {
   "cell_type": "code",
   "execution_count": 64,
   "metadata": {},
   "outputs": [
    {
     "data": {
      "image/png": "[encoded data removed]",
      "text/plain": [
       "<Figure size 432x864 with 1 Axes>"
      ]
     },
     "metadata": {},
     "output_type": "display_data"
    }
   ],
   "source": [
    "sns.set(font_scale=1.75, style=\"whitegrid\")\n",
    "ax = kw_paper_counts[['papers not using original human annotation', 'papers using original human annotation']].plot(kind='barh',stacked=True, figsize=[6,12])\n",
    "ax.set_xlabel(\"Count\")\n",
    "ax.set_ylabel(\"Keyword\")\n",
    "ax.legend(bbox_to_anchor=(1,-.075))\n",
    "plt.savefig(\"figures/keyword-count.pdf\", dpi=300, bbox_inches=\"tight\")"
   ]
  },
  {
   "cell_type": "code",
   "execution_count": 65,
   "metadata": {},
   "outputs": [],
   "source": [
    "import csv\n",
    "export_cols = ['paper_UID', 'original classification task', 'labels from human annotation', 'used original human annotation', 'used external human annotation data', 'original human annotation source', '# of annotators specified', 'training for human annotators', 'formal instructions ', 'prescreening for crowdwork platforms', 'multiple annotator overlap', 'reported inter-annotator agreement', 'reported crowdworker compensation', 'link to dataset available', 'annot_score_normalized', 'annot_score_raw', 'corpus','keywords', 'venue_publisher', 'venue_type', 'venue_type_consol', 'venue_type_prepost_consol']\n",
    "df[export_cols].to_csv(\"gigo_final_dataset_anon.csv\",index=False,quoting=csv.QUOTE_NONNUMERIC)"
   ]
  },
  {
   "cell_type": "code",
   "execution_count": null,
   "metadata": {},
   "outputs": [],
   "source": []
  }
 ],
 "metadata": {
  "kernelspec": {
   "display_name": "Python 3",
   "language": "python",
   "name": "python3"
  },
  "language_info": {
   "codemirror_mode": {
    "name": "ipython",
    "version": 3
   },
   "file_extension": ".py",
   "mimetype": "text/x-python",
   "name": "python",
   "nbconvert_exporter": "python",
   "pygments_lexer": "ipython3",
   "version": "3.7.3"
  }
 },
 "nbformat": 4,
 "nbformat_minor": 2
}
